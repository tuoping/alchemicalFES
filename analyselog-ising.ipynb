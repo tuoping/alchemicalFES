{
 "cells": [
  {
   "cell_type": "code",
   "execution_count": null,
   "metadata": {},
   "outputs": [],
   "source": [
    "import os\n",
    "import numpy as np\n",
    "import matplotlib.pyplot as plt\n",
    "\n",
    "font={'family':'serif',\n",
    "      # 'style':'italic',  # 斜体\n",
    "      'weight':'normal',\n",
    "      # 'color':'red',\n",
    "      'size': 18\n",
    "}  \n",
    "def setfigform_simple(xlabel, ylabel=None, xlimit = (None,None), ylimit = (None, None)):\n",
    "    # plt.legend(fontsize = 16, frameon=False),\n",
    "    plt.xlabel(xlabel, fontdict = font)\n",
    "    plt.ylabel(ylabel, fontdict = font)\n",
    "    plt.xlim(xlimit)\n",
    "    plt.ylim(ylimit)\n",
    "    plt.xticks(fontsize = font['size'], fontname = \"serif\")\n",
    "    plt.yticks(fontsize = font['size'], fontname = \"serif\")\n",
    "    plt.tick_params(direction=\"in\")"
   ]
  },
  {
   "cell_type": "code",
   "execution_count": null,
   "metadata": {},
   "outputs": [],
   "source": [
    "def readlog(dir, trainlosskeyword=\"train_loss\"):\n",
    "    alltrainsteps_baseline = []\n",
    "    alltrainlosses_baseline = []\n",
    "    allvalsteps_baseline = []\n",
    "    allvallosses_baseline = []\n",
    "    with open(os.path.join(dir, \"log.out\")) as fp:\n",
    "        lines = fp.readlines()\n",
    "        for line in lines:\n",
    "            l = line.split()\n",
    "            if \"val_loss\" in line:\n",
    "                for idx_t,t in enumerate(l):\n",
    "                    if \"val_loss\" in t:\n",
    "                        allvallosses_baseline.append(float(l[idx_t+1].replace(\",\",\"\")))\n",
    "                    if \"\\'epoch\\'\" in t:\n",
    "                        allvalsteps_baseline.append(float(l[idx_t+1].replace(\",\",\"\")))\n",
    "                continue\n",
    "            if trainlosskeyword in line:\n",
    "                for idx_t,t in enumerate(l):\n",
    "                    if trainlosskeyword in t:\n",
    "                        alltrainlosses_baseline.append(float(l[idx_t+1].replace(\",\",\"\")))\n",
    "                    if \"\\'epoch\\'\" in t:\n",
    "                        alltrainsteps_baseline.append(float(l[idx_t+1].replace(\",\",\"\")))\n",
    "\n",
    "    return alltrainlosses_baseline, alltrainsteps_baseline, allvallosses_baseline, allvalsteps_baseline"
   ]
  },
  {
   "cell_type": "code",
   "execution_count": null,
   "metadata": {},
   "outputs": [],
   "source": [
    "def plot_3losses(dir_dir_b1024, k2 = \"train_RCLoss\", k3 = \"train_CELoss\", after_epoch=None):\n",
    "    after_idx = 0\n",
    "    plt.rcParams[\"figure.figsize\"] = (17,5)\n",
    "    fig = plt.figure()\n",
    "    alltrainlosses_dir_b1024, alltrainsteps_dir_b1024, allvallosses_dir_b1024, allvalsteps_dir_b1024 = readlog(dir_dir_b1024)\n",
    "    if after_epoch is not None:\n",
    "        after_idx = np.where(np.array(alltrainsteps_dir_b1024)==float(after_epoch))[0][-1]\n",
    "    plt.subplot(131)\n",
    "    plt.scatter(np.array(alltrainsteps_dir_b1024[after_idx:]), alltrainlosses_dir_b1024[after_idx:])\n",
    "    plt.semilogy()\n",
    "    setfigform_simple(\"epoch\",\"loss\")\n",
    "    plt.title(dir_dir_b1024, fontdict=font)\n",
    "    \n",
    "    alltrainlosses_dir_b1024, alltrainsteps_dir_b1024, allvallosses_dir_b1024, allvalsteps_dir_b1024 = readlog(dir_dir_b1024, trainlosskeyword=k2)\n",
    "    if after_epoch is not None:\n",
    "        after_idx = np.where(np.array(alltrainsteps_dir_b1024)==float(after_epoch))[0][-1]\n",
    "    plt.subplot(132)\n",
    "    plt.scatter(np.array(alltrainsteps_dir_b1024)[after_idx:], alltrainlosses_dir_b1024[after_idx:])\n",
    "    plt.semilogy()\n",
    "    setfigform_simple(\"epoch\",k2)\n",
    "    \n",
    "    alltrainlosses_dir_b1024, alltrainsteps_dir_b1024, allvallosses_dir_b1024, allvalsteps_dir_b1024 = readlog(dir_dir_b1024, trainlosskeyword=k3)\n",
    "    if after_epoch is not None:\n",
    "        after_idx = np.where(np.array(alltrainsteps_dir_b1024)==float(after_epoch))[0][-1]\n",
    "    plt.subplot(133)\n",
    "    plt.scatter(np.array(alltrainsteps_dir_b1024)[after_idx:], alltrainlosses_dir_b1024[after_idx:])\n",
    "    plt.semilogy()\n",
    "    setfigform_simple(\"epoch\",k3)\n",
    "    # plt.legend(loc='center left', bbox_to_anchor=(1, 0.5))\n",
    "    # plt.legend(fontsize=font[\"size\"]-4)\n",
    "    fig.tight_layout()"
   ]
  },
  {
   "cell_type": "code",
   "execution_count": null,
   "metadata": {},
   "outputs": [],
   "source": [
    "def plot_1losses(dir_dir_b1024, after_epoch=None):\n",
    "    plt.rcParams[\"figure.figsize\"] = (6,5)\n",
    "    fig = plt.figure()\n",
    "    alltrainlosses_dir_b1024, alltrainsteps_dir_b1024, allvallosses_dir_b1024, allvalsteps_dir_b1024 = readlog(dir_dir_b1024)\n",
    "    after_idx = 0\n",
    "    if after_epoch is not None:\n",
    "        after_idx = np.where(alltrainsteps_dir_b1024==after_epoch)[-1]\n",
    "        \n",
    "    # plt.subplot(121)\n",
    "    plt.scatter(np.array(alltrainsteps_dir_b1024[after_idx:]), alltrainlosses_dir_b1024[after_idx:])\n",
    "    plt.semilogy()\n",
    "    setfigform_simple(\"epoch\",\"loss\")\n",
    "    plt.title(dir_dir_b1024, fontdict=font)\n",
    "    \n",
    "    # plt.subplot(122)\n",
    "    # plt.scatter(np.array(alltrainsteps_dir_b1024[5:]), alltrainlosses_dir_b1024[5:])\n",
    "    # setfigform_simple(\"epoch\",\"loss\")\n",
    "\n",
    "    # plt.legend(loc='center left', bbox_to_anchor=(1, 0.5))\n",
    "    # plt.legend(fontsize=font[\"size\"]-4)\n",
    "    fig.tight_layout()"
   ]
  },
  {
   "cell_type": "code",
   "execution_count": null,
   "metadata": {},
   "outputs": [],
   "source": [
    "\n",
    "dir = \"logs-dir-ising/latt6x6T2.2/kernel3x3_timeembed_symmetrized/finetune1\"\n",
    "plot_3losses(dir)"
   ]
  },
  {
   "cell_type": "code",
   "execution_count": null,
   "metadata": {},
   "outputs": [],
   "source": [
    "raise RuntimeError\n",
    "plt.rcParams[\"figure.figsize\"] = (6,5)\n",
    "from scipy.signal import savgol_filter\n",
    "\n",
    "# Apply Savitzky-Golay filter\n",
    "l_d_smooth = savgol_filter(alltrainlosses_dir_b1024, window_length=3, polyorder=2)\n",
    "error = (np.max(alltrainlosses_dir_b1024[-50:])-np.min(alltrainlosses_dir_b1024[-50:]))/2\n",
    "print(error)\n",
    "# Plot the smoothed data\n",
    "plt.plot(alltrainsteps_dir_b1024, l_d_smooth, label='Dirichlet basis', color='blue')\n",
    "\n",
    "# Add error bars\n",
    "plt.fill_between(alltrainsteps_dir_b1024, l_d_smooth - error, l_d_smooth + error, color='blue', alpha=0.2)\n",
    "\n",
    "# Optionally plot the original data\n",
    "# plt.scatter(alltrainsteps_dir_b1024, alltrainlosses_dir_b1024, color='gray', alpha=0.5, label='Original Data')\n",
    "setfigform_simple(\"epoch\",\"loss\", xlimit=(None, None))\n",
    "plt.legend(fontsize=font[\"size\"]-2)"
   ]
  }
 ],
 "metadata": {
  "kernelspec": {
   "display_name": "base",
   "language": "python",
   "name": "python3"
  },
  "language_info": {
   "codemirror_mode": {
    "name": "ipython",
    "version": 3
   },
   "file_extension": ".py",
   "mimetype": "text/x-python",
   "name": "python",
   "nbconvert_exporter": "python",
   "pygments_lexer": "ipython3",
   "version": "3.10.11"
  }
 },
 "nbformat": 4,
 "nbformat_minor": 2
}
