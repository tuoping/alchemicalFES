{
 "cells": [
  {
   "cell_type": "code",
   "execution_count": 6,
   "metadata": {},
   "outputs": [],
   "source": [
    "import numpy as np\n",
    "import matplotlib.pyplot as plt\n",
    "import os\n",
    "\n",
    "font={'family':'serif',\n",
    "      # 'style':'italic',  # 斜体\n",
    "      'weight':'normal',\n",
    "      # 'color':'red',\n",
    "      'size': 18\n",
    "}  \n",
    "def setfigform_simple(xlabel, ylabel=None, xlimit = (None,None), ylimit = (None, None), xticks=None):\n",
    "    # plt.legend(fontsize = 16, frameon=False),\n",
    "    plt.xlabel(xlabel, fontdict = font)\n",
    "    plt.ylabel(ylabel, fontdict = font)\n",
    "    plt.xlim(xlimit)\n",
    "    plt.ylim(ylimit)\n",
    "    if xticks is None:\n",
    "        plt.xticks(fontsize = font['size'], fontname = \"serif\")\n",
    "    else:\n",
    "        plt.xticks(xticks, fontsize = font['size'], fontname = \"serif\")\n",
    "    plt.yticks(fontsize = font['size'], fontname = \"serif\")\n",
    "    plt.tick_params(direction=\"in\")\n",
    "    \n",
    "line_color = [plt.colormaps[\"brg\"](float(i)/float(3)) for i in range(3)]"
   ]
  },
  {
   "cell_type": "code",
   "execution_count": 7,
   "metadata": {},
   "outputs": [],
   "source": [
    "\n",
    "def ReadReferenceF(filename):\n",
    "    ofile_prob_E = open(filename,\"r\")\n",
    "    Reference_dict = {}\n",
    "    idx_jj = 0\n",
    "    while(True):\n",
    "        line = ofile_prob_E.readline()\n",
    "        if not line:\n",
    "            break\n",
    "\n",
    "        line = ofile_prob_E.readline()\n",
    "        bin_centers = np.array([float(x) for x in line.split()])\n",
    "\n",
    "        line = ofile_prob_E.readline()\n",
    "        jj = float(line.split()[-1].replace(\"kBT=\",\"\"))\n",
    "\n",
    "        line = ofile_prob_E.readline()\n",
    "        F = np.array([float(x) for x in line.split()])\n",
    "\n",
    "        Reference_dict[jj]=np.stack([bin_centers, F])\n",
    "    ofile_prob_E.close()\n",
    "    return Reference_dict\n",
    "\n",
    "\n"
   ]
  },
  {
   "cell_type": "code",
   "execution_count": 8,
   "metadata": {},
   "outputs": [],
   "source": [
    "def ReadReferenceF_potE(filename, readerror=False):\n",
    "    ofile_prob_E = open(filename,\"r\")\n",
    "    Reference_dict = {}\n",
    "    idx_jj = 0\n",
    "    while(True):\n",
    "        line = ofile_prob_E.readline()\n",
    "        if not line:\n",
    "            break\n",
    "\n",
    "        line = ofile_prob_E.readline()\n",
    "        bin_centers = np.array([float(x) for x in line.split()])\n",
    "\n",
    "        line = ofile_prob_E.readline()\n",
    "        jj = float(line.split()[-1].replace(\"kBT=\",\"\"))\n",
    "\n",
    "        line = ofile_prob_E.readline()\n",
    "        F = np.array([float(x) for x in line.split()])\n",
    "        if readerror:\n",
    "            line = ofile_prob_E.readline()\n",
    "            if not \"ERROR\" in line: \n",
    "                raise Exception(\"ERROR:: ERROR data not found in \", filename)\n",
    "            line = ofile_prob_E.readline()\n",
    "            errF = np.array([float(x) for x in line.split()])\n",
    "        if readerror:\n",
    "            Reference_dict[jj]=np.stack([bin_centers, F, errF])\n",
    "        else:\n",
    "            Reference_dict[jj]=np.stack([bin_centers, F])\n",
    "    ofile_prob_E.close()\n",
    "    return Reference_dict\n",
    "\n"
   ]
  },
  {
   "cell_type": "code",
   "execution_count": 9,
   "metadata": {},
   "outputs": [],
   "source": [
    "ref_dirname = \"/nfs/scistore14/chenggrp/ptuo/NeuralRG/data/ising-latt%dx%d-T4.0/latt%dx%d/\"%(6,6,6,6)\n",
    "Reference_dict_latt6 = ReadReferenceF(os.path.join(ref_dirname, \"F-MAGN-REF.dat\"))\n",
    "Reference_dict_potE_latt6 = ReadReferenceF_potE(os.path.join(ref_dirname, \"F-E-REF.dat\"))\n"
   ]
  },
  {
   "cell_type": "code",
   "execution_count": 10,
   "metadata": {},
   "outputs": [],
   "source": [
    "Expectation_Reference_dict_latt6 = {}\n",
    "Expectation_Reference_dict_latt6[\"PotE\"] = np.loadtxt(os.path.join(ref_dirname, \"Expectation-E-REF.dat\"), skiprows=1)"
   ]
  },
  {
   "cell_type": "code",
   "execution_count": 11,
   "metadata": {},
   "outputs": [
    {
     "name": "stdout",
     "output_type": "stream",
     "text": [
      "[1.  1.2 1.4 1.6 1.8 2.  2.2 2.4 2.8 3.2 3.6 4.  4.4 4.8 5.2 5.6 6.  8. ]\n",
      "[-1.97026988 -1.96190508 -1.94176851 -1.90239366 -1.83474054 -1.72269063\n",
      " -1.56182895 -1.36432234 -1.00353936 -0.78041648 -0.64612818 -0.55484283\n",
      " -0.49675696 -0.44734715 -0.40840359 -0.37591402 -0.34839315 -0.2563414 ]\n"
     ]
    }
   ],
   "source": [
    "print(Expectation_Reference_dict_latt6[\"PotE\"][:,0])\n",
    "print(Expectation_Reference_dict_latt6[\"PotE\"][:,1]/6**2)"
   ]
  },
  {
   "cell_type": "code",
   "execution_count": 12,
   "metadata": {},
   "outputs": [],
   "source": [
    "\n",
    "def ReadPredF(filename):\n",
    "    ofile_prob_E = open(filename,\"r\")\n",
    "    Reference_dict = {}\n",
    "    idx_jj = 0\n",
    "    while(True):\n",
    "        line = ofile_prob_E.readline()\n",
    "        if not line:\n",
    "            break\n",
    "        jj = float(line.split()[1].replace(\"alpha-1=\",\"\").replace(\";\",\"\"))\n",
    "        line = ofile_prob_E.readline()\n",
    "        bin_centers = np.array([float(x) for x in line.split()])\n",
    "\n",
    "        line = ofile_prob_E.readline()\n",
    "        line = ofile_prob_E.readline()\n",
    "        F = np.array([float(x) for x in line.split()])\n",
    "\n",
    "        line = ofile_prob_E.readline()\n",
    "        line = ofile_prob_E.readline()\n",
    "        errF = np.array([float(x) for x in line.split()])\n",
    "\n",
    "        Reference_dict[jj]=np.stack([bin_centers, F, errF])\n",
    "    ofile_prob_E.close()\n",
    "    return Reference_dict"
   ]
  },
  {
   "cell_type": "markdown",
   "metadata": {},
   "source": [
    "# Conditional flow\n",
    "- Condition: FM state\n",
    "- Guidance coefficient $\\gamma=1$\n",
    "## Lattice size = 6x6\n",
    "$\\alpha=0.5, \\alpha=1.0, \\alpha=9.0$"
   ]
  },
  {
   "cell_type": "code",
   "execution_count": 13,
   "metadata": {},
   "outputs": [],
   "source": [
    "Pred_dict_withconditions_L6 = []\n",
    "Pred_dict_withconditions_L36 = []"
   ]
  },
  {
   "cell_type": "code",
   "execution_count": 14,
   "metadata": {},
   "outputs": [
    {
     "name": "stdout",
     "output_type": "stream",
     "text": [
      "[(np.float64(0.0), np.float64(0.0), np.float64(0.0), np.float64(1.0)), (np.float64(0.5009794328681196), np.float64(0.015809545348320027), np.float64(0.9999810273487268), np.float64(1.0)), (np.float64(0.7084919084320762), np.float64(0.12647636278656021), np.float64(0.0), np.float64(1.0)), (np.float64(0.8677218312746247), np.float64(0.4268577244046407), np.float64(0.0), np.float64(1.0))] 4\n"
     ]
    }
   ],
   "source": [
    "# prop_cycle = plt.rcParams['axes.prop_cycle']\n",
    "# colors = prop_cycle.by_key()['color']\n",
    "colors = [plt.colormaps[\"gnuplot\"](float(i)/4.) for i in range(4)]\n",
    "print(colors, len(colors))"
   ]
  },
  {
   "cell_type": "code",
   "execution_count": 15,
   "metadata": {},
   "outputs": [],
   "source": [
    "import os\n",
    "\n",
    "def read_prediction(dirname, lattice_dim):\n",
    "    Pred_dict = {}\n",
    "    Pred_dict[\"Lattice_dim\"] = lattice_dim\n",
    "    Pred_dict[\"Flow\"] = ReadPredF(os.path.join(dirname, \"FES-MAGN.dat\"))\n",
    "    Pred_dict[\"Flow-PotE\"] = ReadPredF(os.path.join(dirname, \"FES-E.dat\"))\n",
    "    Pred_dict[\"FlowProbs-PotE\"] = ReadPredF(os.path.join(dirname, \"PROB-E.dat\"))\n",
    "\n",
    "    diffstep_list = list(Pred_dict[\"Flow\"].keys())\n",
    "    return Pred_dict, diffstep_list"
   ]
  },
  {
   "cell_type": "code",
   "execution_count": 16,
   "metadata": {},
   "outputs": [],
   "source": [
    "def plot_magn(Pred_dict, Reference_dict, Reference_L, Reference_Tlist=[2.4, 1.2], diffstep_list = [18, -1]):\n",
    "    plt.figure()\n",
    "    for i, T in enumerate(Reference_Tlist):\n",
    "        baseline = 0.\n",
    "        plt.plot(Reference_dict[T][0], Reference_dict[T][1]-baseline, label=r\"GT ($k_BT$=%.1f, L=%d)\"%(T, Reference_L), c=colors[i], alpha=0.5)\n",
    "        if T == 1.:\n",
    "            plt.plot(-Reference_dict[1.][0], Reference_dict[1.][1]-baseline, label=r\"GT ($k_BT$=%.1f, L=%d)\"%(1., Reference_L), c=colors[i], alpha=0.5)\n",
    "\n",
    "    for idx_diffstep, diffstep in enumerate(diffstep_list):\n",
    "        baseline = 0.\n",
    "        plt.errorbar(Pred_dict[\"Flow\"][list(Pred_dict[\"Flow\"].keys())[diffstep]][0], Pred_dict[\"Flow\"][list(Pred_dict[\"Flow\"].keys())[diffstep]][1]-baseline, yerr=Pred_dict[\"Flow\"][list(Pred_dict[\"Flow\"].keys())[diffstep]][2], label=r\"$\\alpha$-1=%.1f\"%(list(Pred_dict[\"Flow\"].keys())[diffstep]), linestyle='none', c=colors[idx_diffstep], marker=\"D\", ms=3)\n",
    "        if diffstep == -1:\n",
    "            plt.errorbar(Pred_dict[\"Flow\"][list(Pred_dict[\"Flow\"].keys())[diffstep]][0], Pred_dict[\"Flow\"][list(Pred_dict[\"Flow\"].keys())[diffstep]][1]-baseline, yerr=Pred_dict[\"Flow\"][list(Pred_dict[\"Flow\"].keys())[diffstep]][2], label=r\"$\\alpha$-1=%.1f\"%(list(Pred_dict[\"Flow\"].keys())[diffstep]), linestyle='none', c=colors[2], marker=\"D\", ms=3)\n",
    "\n",
    "    setfigform_simple(\"Magnetization\", \"Free energy surface ($k_BT$)\", ylimit=(None, 6))\n",
    "    plt.legend(fontsize=14, loc='center left', bbox_to_anchor=(1, 0.5))"
   ]
  },
  {
   "cell_type": "code",
   "execution_count": 17,
   "metadata": {},
   "outputs": [],
   "source": [
    "def plot_potenergy(Pred_dict, Reference_dict, Reference_L, Reference_Tlist=[2.4, 1.2], diffstep_list = [18, -1]):\n",
    "    plt.figure()\n",
    "    for i, T in enumerate(Reference_Tlist):\n",
    "        # if T in [8.0]:\n",
    "        #     continue\n",
    "        plt.plot(Reference_dict[T][0]/Reference_L**2, Reference_dict[T][1], label=r\"GT ($k_BT$=%.1f, L=%d)\"%(T, Reference_L), c=colors[i], alpha=0.5)\n",
    "\n",
    "    for idx_diffstep, diffstep in enumerate(diffstep_list):\n",
    "        plt.errorbar(Pred_dict[\"Flow-PotE\"][list(Pred_dict[\"Flow-PotE\"].keys())[diffstep]][0]/Reference_L**2, Pred_dict[\"Flow-PotE\"][list(Pred_dict[\"Flow-PotE\"].keys())[diffstep]][1], yerr=Pred_dict[\"Flow-PotE\"][list(Pred_dict[\"Flow-PotE\"].keys())[diffstep]][2], label=r\"$\\alpha$-1=%.1f\"%(list(Pred_dict[\"Flow-PotE\"].keys())[diffstep]), linestyle='none', c=colors[idx_diffstep], marker=\"D\", ms=3)\n",
    "        if diffstep == -1:\n",
    "            plt.errorbar(Pred_dict[\"Flow-PotE\"][list(Pred_dict[\"Flow-PotE\"].keys())[diffstep]][0]/Reference_L**2, Pred_dict[\"Flow-PotE\"][list(Pred_dict[\"Flow-PotE\"].keys())[diffstep]][1], yerr=Pred_dict[\"Flow-PotE\"][list(Pred_dict[\"Flow-PotE\"].keys())[diffstep]][2], label=r\"$\\alpha$-1=%.1f\"%(list(Pred_dict[\"Flow-PotE\"].keys())[diffstep]), linestyle='none', c=colors[2], marker=\"D\", ms=3)\n",
    "\n",
    "    setfigform_simple(\"Potential energy (J)\", \"Negative likelihood\")\n",
    "    plt.legend(fontsize=14, loc='center left', bbox_to_anchor=(1, 0.5))"
   ]
  },
  {
   "cell_type": "code",
   "execution_count": 18,
   "metadata": {},
   "outputs": [],
   "source": [
    "def calc_expectation_potenergy(Pred_dict, diffstep_list):\n",
    "    Pred_dict[\"FlowExpectations-PotE\"] = []\n",
    "    for diffstep in range(80):\n",
    "        Jac_Expectation = Pred_dict[\"FlowProbs-PotE\"][list(Pred_dict[\"Flow-PotE\"].keys())[diffstep]][0]\n",
    "        var_Prob = Pred_dict[\"FlowProbs-PotE\"][list(Pred_dict[\"Flow-PotE\"].keys())[diffstep]][2]**2\n",
    "        err_Expectation = np.sqrt(Jac_Expectation*var_Prob*Jac_Expectation).sum()\n",
    "        Expectation = (Pred_dict[\"FlowProbs-PotE\"][diffstep_list[diffstep]][1]*Pred_dict[\"FlowProbs-PotE\"][diffstep_list[diffstep]][0]).sum()\n",
    "        Pred_dict[\"FlowExpectations-PotE\"].append([diffstep_list[diffstep], Expectation, err_Expectation])\n",
    "\n",
    "    Pred_dict[\"FlowExpectations-PotE\"] = np.array(Pred_dict[\"FlowExpectations-PotE\"])"
   ]
  },
  {
   "cell_type": "code",
   "execution_count": 19,
   "metadata": {},
   "outputs": [],
   "source": [
    "def plot_expactation_potenergy(Pred_dict, Reference_dict, Reference_L, Benckmark_T=[1.,], Benckmark_diffstep=[-1]):\n",
    "    plt.figure(figsize=(13,5))\n",
    "    plt.subplot(121)\n",
    "    plt.plot(Reference_dict[\"PotE\"][:,0], Reference_dict[\"PotE\"][:,1]/Reference_L**2, c=\"k\")\n",
    "    assert len(Benckmark_T) == len(Benckmark_diffstep)\n",
    "    for i in range(len(Benckmark_T)):\n",
    "        plt.errorbar(Benckmark_T[i], Pred_dict[\"FlowExpectations-PotE\"][Benckmark_diffstep[i],1]/Reference_L**2, yerr=Pred_dict[\"FlowExpectations-PotE\"][Benckmark_diffstep[i],2]/Reference_L**2, c=\"blue\", fmt=\"D\", ms=8)\n",
    "    plt.axvline(2/np.log(1+np.sqrt(2)), linestyle=\"--\", c=\"k\")\n",
    "    setfigform_simple(\"$kBT$\", \"$<U>$\", xlimit=(None,6))\n",
    "    plt.ylim((-2.2,-400/36**2))\n",
    "    plt.subplot(122)\n",
    "    plt.errorbar(Pred_dict[\"FlowExpectations-PotE\"][:,0], Pred_dict[\"FlowExpectations-PotE\"][:,1]/Reference_L**2, yerr=Pred_dict[\"FlowExpectations-PotE\"][:,2]/Reference_L**2, c=\"blue\", fmt=\"-\")\n",
    "    setfigform_simple(r\"$\\alpha$-1\", \"$<U>$\")\n",
    "    plt.ylim((-2.2,-400/36**2))\n",
    "    plt.tight_layout()"
   ]
  },
  {
   "cell_type": "code",
   "execution_count": 20,
   "metadata": {},
   "outputs": [
    {
     "ename": "FileNotFoundError",
     "evalue": "[Errno 2] No such file or directory: 'val_baseline_latt6x6/epoch159_IntStep80_AMax10_clspd1.0_scoreG1.0/FES-MAGN.dat'",
     "output_type": "error",
     "traceback": [
      "\u001b[0;31m---------------------------------------------------------------------------\u001b[0m",
      "\u001b[0;31mFileNotFoundError\u001b[0m                         Traceback (most recent call last)",
      "Cell \u001b[0;32mIn[20], line 1\u001b[0m\n\u001b[0;32m----> 1\u001b[0m Pred_dict_c1, difftime_list \u001b[38;5;241m=\u001b[39m \u001b[43mread_prediction\u001b[49m\u001b[43m(\u001b[49m\u001b[38;5;124;43m\"\u001b[39;49m\u001b[38;5;124;43mval_baseline_latt6x6/epoch159_IntStep80_AMax10_clspd1.0_scoreG1.0\u001b[39;49m\u001b[38;5;124;43m\"\u001b[39;49m\u001b[43m,\u001b[49m\u001b[43m \u001b[49m\u001b[43m(\u001b[49m\u001b[38;5;241;43m6\u001b[39;49m\u001b[43m,\u001b[49m\u001b[38;5;241;43m6\u001b[39;49m\u001b[43m)\u001b[49m\u001b[43m)\u001b[49m\n",
      "Cell \u001b[0;32mIn[15], line 6\u001b[0m, in \u001b[0;36mread_prediction\u001b[0;34m(dirname, lattice_dim)\u001b[0m\n\u001b[1;32m      4\u001b[0m Pred_dict \u001b[38;5;241m=\u001b[39m {}\n\u001b[1;32m      5\u001b[0m Pred_dict[\u001b[38;5;124m\"\u001b[39m\u001b[38;5;124mLattice_dim\u001b[39m\u001b[38;5;124m\"\u001b[39m] \u001b[38;5;241m=\u001b[39m lattice_dim\n\u001b[0;32m----> 6\u001b[0m Pred_dict[\u001b[38;5;124m\"\u001b[39m\u001b[38;5;124mFlow\u001b[39m\u001b[38;5;124m\"\u001b[39m] \u001b[38;5;241m=\u001b[39m \u001b[43mReadPredF\u001b[49m\u001b[43m(\u001b[49m\u001b[43mos\u001b[49m\u001b[38;5;241;43m.\u001b[39;49m\u001b[43mpath\u001b[49m\u001b[38;5;241;43m.\u001b[39;49m\u001b[43mjoin\u001b[49m\u001b[43m(\u001b[49m\u001b[43mdirname\u001b[49m\u001b[43m,\u001b[49m\u001b[43m \u001b[49m\u001b[38;5;124;43m\"\u001b[39;49m\u001b[38;5;124;43mFES-MAGN.dat\u001b[39;49m\u001b[38;5;124;43m\"\u001b[39;49m\u001b[43m)\u001b[49m\u001b[43m)\u001b[49m\n\u001b[1;32m      7\u001b[0m Pred_dict[\u001b[38;5;124m\"\u001b[39m\u001b[38;5;124mFlow-PotE\u001b[39m\u001b[38;5;124m\"\u001b[39m] \u001b[38;5;241m=\u001b[39m ReadPredF(os\u001b[38;5;241m.\u001b[39mpath\u001b[38;5;241m.\u001b[39mjoin(dirname, \u001b[38;5;124m\"\u001b[39m\u001b[38;5;124mFES-E.dat\u001b[39m\u001b[38;5;124m\"\u001b[39m))\n\u001b[1;32m      8\u001b[0m Pred_dict[\u001b[38;5;124m\"\u001b[39m\u001b[38;5;124mFlowProbs-PotE\u001b[39m\u001b[38;5;124m\"\u001b[39m] \u001b[38;5;241m=\u001b[39m ReadPredF(os\u001b[38;5;241m.\u001b[39mpath\u001b[38;5;241m.\u001b[39mjoin(dirname, \u001b[38;5;124m\"\u001b[39m\u001b[38;5;124mPROB-E.dat\u001b[39m\u001b[38;5;124m\"\u001b[39m))\n",
      "Cell \u001b[0;32mIn[12], line 2\u001b[0m, in \u001b[0;36mReadPredF\u001b[0;34m(filename)\u001b[0m\n\u001b[1;32m      1\u001b[0m \u001b[38;5;28;01mdef\u001b[39;00m \u001b[38;5;21mReadPredF\u001b[39m(filename):\n\u001b[0;32m----> 2\u001b[0m     ofile_prob_E \u001b[38;5;241m=\u001b[39m \u001b[38;5;28;43mopen\u001b[39;49m\u001b[43m(\u001b[49m\u001b[43mfilename\u001b[49m\u001b[43m,\u001b[49m\u001b[38;5;124;43m\"\u001b[39;49m\u001b[38;5;124;43mr\u001b[39;49m\u001b[38;5;124;43m\"\u001b[39;49m\u001b[43m)\u001b[49m\n\u001b[1;32m      3\u001b[0m     Reference_dict \u001b[38;5;241m=\u001b[39m {}\n\u001b[1;32m      4\u001b[0m     idx_jj \u001b[38;5;241m=\u001b[39m \u001b[38;5;241m0\u001b[39m\n",
      "File \u001b[0;32m~/miniconda3/lib/python3.10/site-packages/IPython/core/interactiveshell.py:324\u001b[0m, in \u001b[0;36m_modified_open\u001b[0;34m(file, *args, **kwargs)\u001b[0m\n\u001b[1;32m    317\u001b[0m \u001b[38;5;28;01mif\u001b[39;00m file \u001b[38;5;129;01min\u001b[39;00m {\u001b[38;5;241m0\u001b[39m, \u001b[38;5;241m1\u001b[39m, \u001b[38;5;241m2\u001b[39m}:\n\u001b[1;32m    318\u001b[0m     \u001b[38;5;28;01mraise\u001b[39;00m \u001b[38;5;167;01mValueError\u001b[39;00m(\n\u001b[1;32m    319\u001b[0m         \u001b[38;5;124mf\u001b[39m\u001b[38;5;124m\"\u001b[39m\u001b[38;5;124mIPython won\u001b[39m\u001b[38;5;124m'\u001b[39m\u001b[38;5;124mt let you open fd=\u001b[39m\u001b[38;5;132;01m{\u001b[39;00mfile\u001b[38;5;132;01m}\u001b[39;00m\u001b[38;5;124m by default \u001b[39m\u001b[38;5;124m\"\u001b[39m\n\u001b[1;32m    320\u001b[0m         \u001b[38;5;124m\"\u001b[39m\u001b[38;5;124mas it is likely to crash IPython. If you know what you are doing, \u001b[39m\u001b[38;5;124m\"\u001b[39m\n\u001b[1;32m    321\u001b[0m         \u001b[38;5;124m\"\u001b[39m\u001b[38;5;124myou can use builtins\u001b[39m\u001b[38;5;124m'\u001b[39m\u001b[38;5;124m open.\u001b[39m\u001b[38;5;124m\"\u001b[39m\n\u001b[1;32m    322\u001b[0m     )\n\u001b[0;32m--> 324\u001b[0m \u001b[38;5;28;01mreturn\u001b[39;00m \u001b[43mio_open\u001b[49m\u001b[43m(\u001b[49m\u001b[43mfile\u001b[49m\u001b[43m,\u001b[49m\u001b[43m \u001b[49m\u001b[38;5;241;43m*\u001b[39;49m\u001b[43margs\u001b[49m\u001b[43m,\u001b[49m\u001b[43m \u001b[49m\u001b[38;5;241;43m*\u001b[39;49m\u001b[38;5;241;43m*\u001b[39;49m\u001b[43mkwargs\u001b[49m\u001b[43m)\u001b[49m\n",
      "\u001b[0;31mFileNotFoundError\u001b[0m: [Errno 2] No such file or directory: 'val_baseline_latt6x6/epoch159_IntStep80_AMax10_clspd1.0_scoreG1.0/FES-MAGN.dat'"
     ]
    }
   ],
   "source": [
    "Pred_dict_c1, difftime_list = read_prediction(\"val_baseline_latt6x6/epoch159_IntStep80_AMax10_clspd1.0_scoreG1.0\", (6,6))"
   ]
  },
  {
   "cell_type": "code",
   "execution_count": null,
   "metadata": {},
   "outputs": [],
   "source": [
    "calc_expectation_potenergy(Pred_dict_c1, difftime_list)"
   ]
  },
  {
   "cell_type": "code",
   "execution_count": null,
   "metadata": {},
   "outputs": [],
   "source": [
    "plot_expactation_potenergy(Pred_dict_c1, Expectation_Reference_dict_latt6, 6)"
   ]
  },
  {
   "cell_type": "code",
   "execution_count": null,
   "metadata": {},
   "outputs": [],
   "source": [
    "\n",
    "Pred_dict_ = {}\n",
    "Pred_dict_[\"guidance_class\"] = \"pd1.0\"\n",
    "Pred_dict_[\"shuffle_freq\"] = 0.0\n",
    "Pred_dict_[\"guidance_coeff\"] = 1.0\n",
    "Pred_dict_[\"Predictions\"] = Pred_dict_c1\n",
    "Pred_dict_withconditions_L6.append(Pred_dict_)"
   ]
  },
  {
   "cell_type": "code",
   "execution_count": null,
   "metadata": {},
   "outputs": [],
   "source": [
    "\n",
    "Pred_dict_c2, difftime_list = read_prediction(\"val_baseline_latt6x6/epoch159_IntStep80_AMax10_clsT2.4L6shuffle0.6_scoreG1.0_bs10240\", (6,6))"
   ]
  },
  {
   "cell_type": "code",
   "execution_count": null,
   "metadata": {},
   "outputs": [],
   "source": [
    "calc_expectation_potenergy(Pred_dict_c2, difftime_list)"
   ]
  },
  {
   "cell_type": "code",
   "execution_count": null,
   "metadata": {},
   "outputs": [],
   "source": [
    "plot_magn(Pred_dict_c2, Reference_dict_latt6, 6, Reference_Tlist=[3.2, 2.8, 2.4])"
   ]
  },
  {
   "cell_type": "code",
   "execution_count": null,
   "metadata": {},
   "outputs": [],
   "source": [
    "plot_potenergy(Pred_dict_c2, Reference_dict_potE_latt6, 6, Reference_Tlist=[3.2, 2.8, 2.4])"
   ]
  },
  {
   "cell_type": "code",
   "execution_count": null,
   "metadata": {},
   "outputs": [],
   "source": [
    "plot_expactation_potenergy(Pred_dict_c2, Expectation_Reference_dict_latt6, 6, Benckmark_T=[2.4], Benckmark_diffstep=[-1])"
   ]
  },
  {
   "cell_type": "code",
   "execution_count": null,
   "metadata": {},
   "outputs": [],
   "source": [
    "\n",
    "Pred_dict_ = {}\n",
    "Pred_dict_[\"guidance_class\"] = \"T2.4L6\"\n",
    "Pred_dict_[\"shuffle_freq\"] = 0.6\n",
    "Pred_dict_[\"guidance_coeff\"] = 1.0\n",
    "Pred_dict_[\"Predictions\"] = Pred_dict_c2\n",
    "Pred_dict_withconditions_L6.append(Pred_dict_)"
   ]
  },
  {
   "cell_type": "code",
   "execution_count": null,
   "metadata": {},
   "outputs": [],
   "source": [
    "\n",
    "Pred_dict_c2_c, difftime_list = read_prediction(\"logs-dir-ising/latt6x6T3.2/kernel3x3_timeembed_symmetrized/clsfreeG/val_baseline_latt6x6/epoch159_IntStep80_AMax10_clsT2.4L6shuffle0.55_scoreG1.0_bs50000\", (6,6))\n",
    "calc_expectation_potenergy(Pred_dict_c2_c, difftime_list)\n",
    "plot_magn(Pred_dict_c2_c, Reference_dict_potE_latt6, 6, Reference_Tlist=[3.2, 2.8, 2.4])\n",
    "plot_potenergy(Pred_dict_c2_c, Reference_dict_potE_latt6, 6, Reference_Tlist=[3.2, 2.8, 2.4])"
   ]
  },
  {
   "cell_type": "code",
   "execution_count": null,
   "metadata": {},
   "outputs": [],
   "source": [
    "plot_expactation_potenergy(Pred_dict_c2_c, Expectation_Reference_dict_latt6, 6, Benckmark_T=[2.4], Benckmark_diffstep=[-1])"
   ]
  },
  {
   "cell_type": "markdown",
   "metadata": {},
   "source": [
    "## Lattice size = 12x12"
   ]
  },
  {
   "cell_type": "code",
   "execution_count": 21,
   "metadata": {},
   "outputs": [
    {
     "name": "stdout",
     "output_type": "stream",
     "text": [
      "The history saving thread hit an unexpected error (OperationalError('attempt to write a readonly database')).History will not be written to the database.\n"
     ]
    }
   ],
   "source": [
    "ref_dirname = \"/nfs/scistore14/chenggrp/ptuo/NeuralRG/data/ising-latt%dx%d-T4.0/latt%dx%d/\"%(12,12,12,12)\n",
    "Reference_dict_latt12 = ReadReferenceF(os.path.join(ref_dirname, \"F-MAGN-REF.dat\"))\n",
    "Reference_dict_potE_latt12 = ReadReferenceF_potE(os.path.join(ref_dirname, \"F-E-REF.dat\"))\n",
    "Expectation_Reference_dict_latt12 = {}\n",
    "Expectation_Reference_dict_latt12[\"PotE\"] = np.loadtxt(os.path.join(ref_dirname, \"Expectation-E-REF.dat\"), skiprows=1)"
   ]
  },
  {
   "cell_type": "code",
   "execution_count": null,
   "metadata": {},
   "outputs": [],
   "source": []
  },
  {
   "cell_type": "markdown",
   "metadata": {},
   "source": [
    "## Lattice size = 36x36"
   ]
  },
  {
   "cell_type": "code",
   "execution_count": null,
   "metadata": {},
   "outputs": [],
   "source": [
    "ref_dirname = \"/nfs/scistore14/chenggrp/ptuo/NeuralRG/data/ising-latt%dx%d-T4.0/latt%dx%d/\"%(36,36,36,36)\n",
    "Reference_dict_latt36 = ReadReferenceF(os.path.join(ref_dirname, \"F-MAGN-REF.dat\"))\n",
    "Reference_dict_potE_latt36 = ReadReferenceF_potE(os.path.join(ref_dirname, \"F-E-REF.dat\"))\n"
   ]
  },
  {
   "cell_type": "code",
   "execution_count": null,
   "metadata": {},
   "outputs": [],
   "source": [
    "Expectation_Reference_dict_latt36 = {}\n",
    "Expectation_Reference_dict_latt36[\"PotE\"] = np.loadtxt(os.path.join(ref_dirname, \"Expectation-E-REF.dat\"), skiprows=1)"
   ]
  },
  {
   "cell_type": "code",
   "execution_count": null,
   "metadata": {},
   "outputs": [],
   "source": [
    "Pred_dict_c1_latt36, difftime_list = read_prediction(\"logs-dir-ising/latt6x6T3.2/kernel3x3_timeembed_symmetrized/clsfreeG/val_baseline_latt36x36/epoch159_IntStep80_AMax10_clspd1.0_scoreG1.0_testsymm1\", (36,36))"
   ]
  },
  {
   "cell_type": "code",
   "execution_count": null,
   "metadata": {},
   "outputs": [],
   "source": [
    "calc_expectation_potenergy(Pred_dict_c1_latt36, difftime_list)"
   ]
  },
  {
   "cell_type": "code",
   "execution_count": null,
   "metadata": {},
   "outputs": [],
   "source": [
    "plot_expactation_potenergy(Pred_dict_c1_latt36, Expectation_Reference_dict_latt36, 36)"
   ]
  },
  {
   "cell_type": "code",
   "execution_count": null,
   "metadata": {},
   "outputs": [],
   "source": [
    "\n",
    "Pred_dict_ = {}\n",
    "Pred_dict_[\"guidance_class\"] = \"pd1.0\"\n",
    "Pred_dict_[\"shuffle_freq\"] = 0.0\n",
    "Pred_dict_[\"guidance_coeff\"] = 1.0\n",
    "Pred_dict_[\"Predictions\"] = Pred_dict_c1_latt36\n",
    "Pred_dict_withconditions_L36.append(Pred_dict_)"
   ]
  }
 ],
 "metadata": {
  "kernelspec": {
   "display_name": "Python 3 (ipykernel)",
   "language": "python",
   "name": "python3"
  },
  "language_info": {
   "codemirror_mode": {
    "name": "ipython",
    "version": 3
   },
   "file_extension": ".py",
   "mimetype": "text/x-python",
   "name": "python",
   "nbconvert_exporter": "python",
   "pygments_lexer": "ipython3",
   "version": "3.10.14"
  }
 },
 "nbformat": 4,
 "nbformat_minor": 4
}
