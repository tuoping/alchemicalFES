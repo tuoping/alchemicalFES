{
 "cells": [
  {
   "cell_type": "code",
   "execution_count": 1,
   "metadata": {},
   "outputs": [],
   "source": [
    "import numpy as np \n",
    "import matplotlib.pyplot as plt\n",
    "seq_dim=(12,12)\n",
    "\n",
    "magn = np.arange(-np.prod(seq_dim), np.prod(seq_dim)+1, 2)\n",
    "bins=np.linspace(magn[0]-1, magn[-1]+1, np.prod(seq_dim)+1+1)"
   ]
  },
  {
   "cell_type": "code",
   "execution_count": 2,
   "metadata": {},
   "outputs": [],
   "source": [
    "import os\n",
    "import glob\n",
    "def loadmodelprediction(_dirname, epoch=None, num_batches=1):\n",
    "    dirname = _dirname\n",
    "    f_logits_t = sorted(glob.glob(os.path.join(dirname, \"logits_val_inttime*\")))\n",
    "    print(\">>> Reading model predictions from: \", dirname)\n",
    "\n",
    "    logits_t = [np.load(f).astype(np.float16) for f in f_logits_t]\n",
    "    diffusion_t = [float(x.replace(os.path.join(dirname, \"logits_val_inttime\"), \"\").replace(\".npy\",\"\"))-1 for x in f_logits_t]\n",
    "\n",
    "    for ii in range(num_batches):\n",
    "        if ii == 0:\n",
    "            print(\"        \", len(logits_t), [logits_t[i].shape for i in range(len(logits_t))])\n",
    "            continue\n",
    "        dirname = _dirname+\"../epoch%d_sampleIntStep80_%d\"%(epoch,ii+1)\n",
    "        _f_logits_t = sorted(glob.glob(os.path.join(dirname, \"logits_val_inttime*\")))\n",
    "        _logits_t = [np.load(f).astype(np.float16) for f in _f_logits_t]\n",
    "        print(\"        \", ii+1,len(_logits_t), [_logits_t[i].shape for i in range(len(_f_logits_t))])\n",
    "        logits_t = [np.concatenate([logits_t[i], _logits_t[i]], axis=0) for i in range(len(_f_logits_t))]\n",
    "    return logits_t, diffusion_t\n",
    "\n",
    "def logits2seq(logits_t):\n",
    "    seq_t = []\n",
    "    for logits in logits_t:\n",
    "        seq = np.argmax(logits, axis=-1)\n",
    "        seq[np.where(seq==0)] = -1\n",
    "        seq_t.append(seq.reshape(-1,*seq_dim))\n",
    "    return seq_t\n",
    "\n",
    "def Ising_magnetization(seq):\n",
    "    data = np.sum(seq.reshape([-1,np.prod(seq_dim)]), axis=-1)\n",
    "    return data\n",
    "\n",
    "def histvar(seq, varfunc, bins):\n",
    "    var = varfunc(seq)\n",
    "    hist, bin_edges = np.histogram(var, bins=bins)\n",
    "    bin_centers = np.array([(bin_edges[i]+bin_edges[i+1])/2. for i in range(len(bin_edges)-1)])\n",
    "    P = hist/np.sum(hist)\n",
    "    idxF = np.where(hist>0)\n",
    "    F = -np.log(P[idxF])\n",
    "    return hist, bin_centers, P, F, idxF"
   ]
  },
  {
   "cell_type": "code",
   "execution_count": 3,
   "metadata": {},
   "outputs": [
    {
     "name": "stdout",
     "output_type": "stream",
     "text": [
      ">>> Reading model predictions from:  ./\n",
      "         40 [(1024, 12, 12, 2), (1024, 12, 12, 2), (1024, 12, 12, 2), (1024, 12, 12, 2), (1024, 12, 12, 2), (1024, 12, 12, 2), (1024, 12, 12, 2), (1024, 12, 12, 2), (1024, 12, 12, 2), (1024, 12, 12, 2), (1024, 12, 12, 2), (1024, 12, 12, 2), (1024, 12, 12, 2), (1024, 12, 12, 2), (1024, 12, 12, 2), (1024, 12, 12, 2), (1024, 12, 12, 2), (1024, 12, 12, 2), (1024, 12, 12, 2), (1024, 12, 12, 2), (1024, 12, 12, 2), (1024, 12, 12, 2), (1024, 12, 12, 2), (1024, 12, 12, 2), (1024, 12, 12, 2), (1024, 12, 12, 2), (1024, 12, 12, 2), (1024, 12, 12, 2), (1024, 12, 12, 2), (1024, 12, 12, 2), (1024, 12, 12, 2), (1024, 12, 12, 2), (1024, 12, 12, 2), (1024, 12, 12, 2), (1024, 12, 12, 2), (1024, 12, 12, 2), (1024, 12, 12, 2), (1024, 12, 12, 2), (1024, 12, 12, 2), (1024, 12, 12, 2)]\n"
     ]
    }
   ],
   "source": [
    "logits_t, diffusion_t = loadmodelprediction(\"./\")\n"
   ]
  },
  {
   "cell_type": "code",
   "execution_count": 18,
   "metadata": {},
   "outputs": [
    {
     "name": "stdout",
     "output_type": "stream",
     "text": [
      "[(1024, 6, 6, 2), (1024, 6, 6, 2), (1024, 6, 6, 2), (1024, 6, 6, 2), (1024, 6, 6, 2), (1024, 6, 6, 2), (1024, 6, 6, 2), (1024, 6, 6, 2), (1024, 6, 6, 2), (1024, 6, 6, 2), (1024, 6, 6, 2), (1024, 6, 6, 2), (1024, 6, 6, 2), (1024, 6, 6, 2), (1024, 6, 6, 2), (1024, 6, 6, 2), (1024, 6, 6, 2), (1024, 6, 6, 2), (1024, 6, 6, 2), (1024, 6, 6, 2), (1024, 6, 6, 2), (1024, 6, 6, 2), (1024, 6, 6, 2), (1024, 6, 6, 2), (1024, 6, 6, 2), (1024, 6, 6, 2), (1024, 6, 6, 2), (1024, 6, 6, 2), (1024, 6, 6, 2), (1024, 6, 6, 2), (1024, 6, 6, 2), (1024, 6, 6, 2), (1024, 6, 6, 2), (1024, 6, 6, 2), (1024, 6, 6, 2), (1024, 6, 6, 2), (1024, 6, 6, 2), (1024, 6, 6, 2), (1024, 6, 6, 2), (1024, 6, 6, 2)]\n",
      "9.0\n"
     ]
    }
   ],
   "source": [
    "print([logits.shape for logits in logits_t])\n",
    "print(max(diffusion_t))"
   ]
  },
  {
   "cell_type": "code",
   "execution_count": null,
   "metadata": {},
   "outputs": [],
   "source": [
    "logits_entropy_t = []\n",
    "for logits in logits_t:\n",
    "    logits_entropy = (-logits*np.log(logits+1e-7)).reshape(-1,2).sum(-1)\n",
    "    if np.isnan(logits_entropy).sum()>0:\n",
    "        print(logits.reshape(-1,2)[np.where(np.isnan(logits_entropy))])\n",
    "        print(np.log(logits+1e-7).reshape(-1,2)[np.where(np.isnan(logits_entropy))])\n",
    "        raise Exception(\"NAN\")\n",
    "    logits_entropy_t.append(logits_entropy.mean())\n",
    "logits_entropy_t = np.array(logits_entropy_t)"
   ]
  },
  {
   "cell_type": "code",
   "execution_count": null,
   "metadata": {},
   "outputs": [],
   "source": [
    "plt.plot(diffusion_t, logits_entropy_t)"
   ]
  },
  {
   "cell_type": "code",
   "execution_count": null,
   "metadata": {},
   "outputs": [],
   "source": [
    "fp = open(\"avg_logit_entropy.dat\", \"w\")\n",
    "fp.write(\"alpha avg_logit_entropy\\n\")\n",
    "for i in range(len(diffusion_t)):\n",
    "    fp.write(\"%f    %f\\n\"%(diffusion_t[i], logits_entropy_t[i]))\n",
    "fp.close()"
   ]
  },
  {
   "cell_type": "code",
   "execution_count": null,
   "metadata": {},
   "outputs": [],
   "source": [
    "logits_entropy_samples_t = []\n",
    "for logits in logits_t:\n",
    "    logits_entropy_samples = (-logits*np.log(logits)).reshape(-1,2).sum(-1)\n",
    "    logits_entropy_samples = logits_entropy_samples.reshape(-1, np.prod(seq_dim)).mean(-1)\n",
    "    logits_entropy_samples_t.append(logits_entropy_samples)"
   ]
  },
  {
   "cell_type": "code",
   "execution_count": null,
   "metadata": {},
   "outputs": [],
   "source": [
    "line_color = [plt.colormaps[\"gnuplot\"](float(i)/float(len(diffusion_t))) for i in range(len(diffusion_t))]\n",
    "\n",
    "# for i in [0, len(diffusion_t)-1]:\n",
    "for i in range(0, len(diffusion_t), 4):\n",
    "    plt.hist(logits_entropy_samples_t[i], bins=100, edgecolor=line_color[i], histtype='step', label=\"Time=%.2f\"%(diffusion_t[i]))\n",
    "    # plt.scatter(magn_samples_t[i], logits_entropy_samples_t[i], c=line_color[i], label=\"Time=%.2f\"%(diffusion_t[i]), s=3)\n",
    "plt.legend(loc='center left', bbox_to_anchor=(1, 0.5))\n",
    "plt.xlim(0.2, 0.6)\n",
    "plt.xlabel(\"Entropy of probability\")\n",
    "plt.ylabel(\"Histogram\")\n",
    "plt.yticks([])"
   ]
  },
  {
   "cell_type": "code",
   "execution_count": 4,
   "metadata": {},
   "outputs": [
    {
     "name": "stdout",
     "output_type": "stream",
     "text": [
      "[(1024,), (1024,), (1024,), (1024,), (1024,), (1024,), (1024,), (1024,), (1024,), (1024,), (1024,), (1024,), (1024,), (1024,), (1024,), (1024,), (1024,), (1024,), (1024,), (1024,), (1024,), (1024,), (1024,), (1024,), (1024,), (1024,), (1024,), (1024,), (1024,), (1024,), (1024,), (1024,), (1024,), (1024,), (1024,), (1024,), (1024,), (1024,), (1024,), (1024,)]\n"
     ]
    }
   ],
   "source": [
    "seq_t = logits2seq(logits_t)\n",
    "magn_samples_t = [Ising_magnetization(seq) for seq in seq_t]\n",
    "print([magn.shape for magn in magn_samples_t])"
   ]
  },
  {
   "cell_type": "code",
   "execution_count": 5,
   "metadata": {},
   "outputs": [
    {
     "data": {
      "text/plain": [
       "(-144.0, 144.0)"
      ]
     },
     "execution_count": 5,
     "metadata": {},
     "output_type": "execute_result"
    },
    {
     "data": {
      "image/png": "[encoded data removed]",
      "text/plain": [
       "<Figure size 640x480 with 1 Axes>"
      ]
     },
     "metadata": {},
     "output_type": "display_data"
    }
   ],
   "source": [
    "# line_color = [plt.colormaps[\"jet_r\"](float(i)/float(len(diffusion_t))) for i in range(len(diffusion_t))]\n",
    "line_color = [plt.colormaps[\"gnuplot\"](float(i)/3.) for i in range(3)]\n",
    "line_marker = [\"o\", \"x\", \"o\"]\n",
    "line_s = [1, 10, 1]\n",
    "# for i in range(0, len(diffusion_t), 10):\n",
    "for idx_t, i in enumerate([0, len(diffusion_t)-10, len(diffusion_t)-1]):\n",
    "    # if diffusion_t[i] >= 1.0:\n",
    "    #     break\n",
    "    hist_E, bin_centers_E, P_E, F_E, idxF_E = histvar(seq_t[i], Ising_magnetization, bins)\n",
    "    plt.plot(bin_centers_E[idxF_E], F_E, label=\"Time=%.2f\"%(diffusion_t[i]), c=line_color[idx_t], marker=line_marker[idx_t], markersize=line_s[idx_t])\n",
    "plt.legend(loc='center left', bbox_to_anchor=(1, 0.5))\n",
    "plt.xlabel(\"Magnetization\")\n",
    "plt.ylabel(\"Negative likelihood\")\n",
    "plt.xlim((magn.min(), magn.max()))"
   ]
  },
  {
   "cell_type": "code",
   "execution_count": null,
   "metadata": {},
   "outputs": [],
   "source": [
    "36*36"
   ]
  }
 ],
 "metadata": {
  "kernelspec": {
   "display_name": "Python 3",
   "language": "python",
   "name": "python3"
  },
  "language_info": {
   "codemirror_mode": {
    "name": "ipython",
    "version": 3
   },
   "file_extension": ".py",
   "mimetype": "text/x-python",
   "name": "python",
   "nbconvert_exporter": "python",
   "pygments_lexer": "ipython3",
   "version": "3.10.11"
  }
 },
 "nbformat": 4,
 "nbformat_minor": 2
}
