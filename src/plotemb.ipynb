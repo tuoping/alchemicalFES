{
 "cells": [
  {
   "cell_type": "code",
   "execution_count": 1,
   "metadata": {},
   "outputs": [],
   "source": [
    "import numpy as np \n",
    "import matplotlib.pyplot as plt\n",
    "seq_dim=(6,6)\n",
    "\n",
    "magn = np.arange(-np.prod(seq_dim), np.prod(seq_dim)+1, 2)\n",
    "bins=np.linspace(magn[0]-1, magn[-1]+1, np.prod(seq_dim)+1+1)"
   ]
  },
  {
   "cell_type": "code",
   "execution_count": 2,
   "metadata": {},
   "outputs": [],
   "source": [
    "magn = np.load(\"m_condition.npy\")\n",
    "pote = np.load(\"e_condition.npy\")"
   ]
  },
  {
   "cell_type": "code",
   "execution_count": 3,
   "metadata": {},
   "outputs": [],
   "source": [
    "import os\n",
    "import glob\n",
    "def loadmodelprediction(_dirname, epoch=None, num_batches=1, file_header=\"clemb\"):\n",
    "    dirname = _dirname\n",
    "    f_logits_t = glob.glob(os.path.join(dirname, file_header+\"_val_inttime*\"))\n",
    "    print(\">>> Reading model predictions from: \", dirname)\n",
    "\n",
    "    logits_t = np.array([np.load(f).astype(np.float16) for f in f_logits_t])\n",
    "    diffusion_t = np.array([float(x.replace(os.path.join(dirname, file_header+\"_val_inttime\"), \"\").replace(\".npy\",\"\"))-1 for x in f_logits_t])\n",
    "    idx_order = np.argsort(diffusion_t)\n",
    "    logits_t = logits_t[idx_order]\n",
    "    diffusion_t = diffusion_t[idx_order]\n",
    "    return logits_t, diffusion_t"
   ]
  },
  {
   "cell_type": "code",
   "execution_count": 4,
   "metadata": {},
   "outputs": [],
   "source": [
    "def logits2seq(logits_t):\n",
    "    seq_t = []\n",
    "    for logits in logits_t:\n",
    "        seq = np.argmax(logits, axis=-1)\n",
    "        seq[np.where(seq==0)] = -1\n",
    "        seq_t.append(seq.reshape(-1,*seq_dim))\n",
    "    return seq_t\n",
    "\n",
    "def Ising_magnetization(seq):\n",
    "    data = np.sum(seq.reshape([-1,np.prod(seq_dim)]), axis=-1)\n",
    "    return data\n",
    "\n"
   ]
  },
  {
   "cell_type": "code",
   "execution_count": null,
   "metadata": {},
   "outputs": [],
   "source": [
    "condpp_t, diffusion_t = loadmodelprediction(\"./\", file_header=\"rawcondpp\")"
   ]
  },
  {
   "cell_type": "code",
   "execution_count": null,
   "metadata": {},
   "outputs": [],
   "source": [
    "condxx_t, diffusion_t = loadmodelprediction(\"./\", file_header=\"logits\")"
   ]
  },
  {
   "cell_type": "code",
   "execution_count": null,
   "metadata": {},
   "outputs": [],
   "source": [
    "condflow_t, diffusion_t = loadmodelprediction(\"./\", file_header=\"flowprobs\")"
   ]
  },
  {
   "cell_type": "code",
   "execution_count": null,
   "metadata": {},
   "outputs": [],
   "source": [
    "print(condflow_t[-1])"
   ]
  },
  {
   "cell_type": "code",
   "execution_count": 9,
   "metadata": {},
   "outputs": [],
   "source": [
    "seqc_t = logits2seq(condpp_t)\n",
    "magnc_t = [Ising_magnetization(seq) for seq in seqc_t]"
   ]
  },
  {
   "cell_type": "code",
   "execution_count": 10,
   "metadata": {},
   "outputs": [],
   "source": [
    "seqx_t = logits2seq(condxx_t)\n",
    "magnx_t = [Ising_magnetization(seq) for seq in seqx_t]"
   ]
  },
  {
   "cell_type": "code",
   "execution_count": 11,
   "metadata": {},
   "outputs": [],
   "source": [
    "seqf_t = logits2seq(condflow_t)\n",
    "magnf_t = [Ising_magnetization(seq) for seq in seqf_t]"
   ]
  },
  {
   "cell_type": "code",
   "execution_count": null,
   "metadata": {},
   "outputs": [],
   "source": [
    "memb_t, diffusion_t = loadmodelprediction(\"./\")"
   ]
  },
  {
   "cell_type": "code",
   "execution_count": null,
   "metadata": {},
   "outputs": [],
   "source": [
    "eemb_t, diffusion_t = loadmodelprediction(\"./\", file_header=\"eemb\")"
   ]
  },
  {
   "cell_type": "code",
   "execution_count": null,
   "metadata": {},
   "outputs": [],
   "source": [
    "len(memb_t), len(eemb_t)"
   ]
  },
  {
   "cell_type": "code",
   "execution_count": 15,
   "metadata": {},
   "outputs": [],
   "source": [
    "from sklearn.decomposition import PCA\n",
    "emb = [np.vstack([memb_t[i], eemb_t[i]]) for i in range(len(memb_t))]"
   ]
  },
  {
   "cell_type": "code",
   "execution_count": 16,
   "metadata": {},
   "outputs": [],
   "source": [
    "pc_memb_t = []\n",
    "for i in range(len(memb_t)):\n",
    "    pca = PCA(n_components=2)\n",
    "    pca.fit(memb_t[i])\n",
    "    pc_memb = pca.transform(memb_t[i])\n",
    "    pc_memb_t.append(pc_memb)"
   ]
  },
  {
   "cell_type": "code",
   "execution_count": 17,
   "metadata": {},
   "outputs": [],
   "source": [
    "pc_eemb_t = []\n",
    "for i in range(len(eemb_t)):\n",
    "    pca = PCA(n_components=2)\n",
    "    pca.fit(eemb_t[i])\n",
    "    pc_eemb = pca.transform(eemb_t[i])\n",
    "    pc_eemb_t.append(pc_eemb)"
   ]
  },
  {
   "cell_type": "code",
   "execution_count": null,
   "metadata": {},
   "outputs": [],
   "source": [
    "fig, axes = plt.subplots(ncols=2, nrows=1, figsize=(2*2,2))\n",
    "n=-1\n",
    "for i in [0,-1]:\n",
    "    n += 1\n",
    "    # axes[i].scatter(pc_memb_t[i][:,0], pc_memb_t[i][:,1])\n",
    "    axes[i].scatter(magn, pote, c=pc_memb_t[i][:,0])\n"
   ]
  },
  {
   "cell_type": "code",
   "execution_count": null,
   "metadata": {},
   "outputs": [],
   "source": [
    "fig, axes = plt.subplots(ncols=2, nrows=1, figsize=(2*2,2))\n",
    "n=-1\n",
    "for i in [0,-1]:\n",
    "    n += 1\n",
    "    # axes[i].scatter(pc_memb_t[i][:,0], pc_memb_t[i][:,1])\n",
    "    axes[i].scatter(magn, pote, c=pc_eemb_t[i][:,0])"
   ]
  },
  {
   "cell_type": "code",
   "execution_count": null,
   "metadata": {},
   "outputs": [],
   "source": [
    "fig, axes = plt.subplots(ncols=2, nrows=1, figsize=(3*4,4))\n",
    "n = 0\n",
    "for i in [0, len(memb_t)-1]:\n",
    "    # axes[i].scatter(pc_memb_t[i][:,0], pc_memb_t[i][:,1])\n",
    "    cmap = axes[n].scatter(pc_memb_t[i][:,0], pc_eemb_t[i][:,0], c=magnc_t[i])\n",
    "    cbar = plt.colorbar(cmap, ax=axes[n])\n",
    "    n += 1"
   ]
  },
  {
   "cell_type": "code",
   "execution_count": null,
   "metadata": {},
   "outputs": [],
   "source": [
    "fig, axes = plt.subplots(ncols=5, nrows=1, figsize=(3*5,2))\n",
    "n = 0\n",
    "# for i in [0, len(memb_t)-1]:\n",
    "for i in np.linspace(0, len(memb_t)-1, 5).astype(int):\n",
    "    # axes[i].scatter(pc_memb_t[i][:,0], pc_memb_t[i][:,1])\n",
    "    cmap = axes[n].scatter(magn-36, pote, c=magnc_t[i], s=1)\n",
    "    cbar = plt.colorbar(cmap, ax=axes[n])\n",
    "    n += 1"
   ]
  },
  {
   "cell_type": "code",
   "execution_count": null,
   "metadata": {},
   "outputs": [],
   "source": [
    "plt.figure(figsize=(5,5))\n",
    "_ = plt.hist2d(magn-36, magnc_t[-1], bins=72)\n",
    "plt.xlabel(\"m condition\")\n",
    "plt.ylabel(\"Generated m\")"
   ]
  },
  {
   "cell_type": "code",
   "execution_count": null,
   "metadata": {},
   "outputs": [],
   "source": [
    "plt.figure(figsize=(9,4))\n",
    "plt.subplot(121)\n",
    "_ = plt.hist(magn-36, bins=72)\n",
    "plt.xlabel(\"m condition\")\n",
    "plt.subplot(122)\n",
    "_ = plt.hist(magnc_t[-1]//(seq_dim[0]/6)**2, bins=72)\n",
    "plt.xlabel(\"Generated m\")"
   ]
  },
  {
   "cell_type": "code",
   "execution_count": null,
   "metadata": {},
   "outputs": [],
   "source": [
    "_ = plt.hist(magnx_t[-1], bins=72)"
   ]
  },
  {
   "cell_type": "code",
   "execution_count": null,
   "metadata": {},
   "outputs": [],
   "source": [
    "_ = plt.hist(magnc_t[-1], bins=72)"
   ]
  },
  {
   "cell_type": "code",
   "execution_count": null,
   "metadata": {},
   "outputs": [],
   "source": [
    "_ = plt.hist(magnf_t[-1], bins=72)"
   ]
  },
  {
   "cell_type": "code",
   "execution_count": 26,
   "metadata": {},
   "outputs": [],
   "source": [
    "import torch\n",
    "def RC(logits):\n",
    "    assert len(logits.shape) == 4\n",
    "    assert logits.shape[-1] == 2\n",
    "    B = logits.shape[0]\n",
    "    RC = torch.sum(logits*torch.tensor([-1,1], device=logits.device)[None,None,None,:], dim=-1)\n",
    "    RC = torch.sum(RC.reshape(B, -1), dim=-1)\n",
    "    return RC.reshape(-1,1)"
   ]
  },
  {
   "cell_type": "code",
   "execution_count": 27,
   "metadata": {},
   "outputs": [],
   "source": [
    "cls = np.load(\"cls.npy\")\n",
    "e = np.load(\"energy_op_inp.npy\")\n",
    "pp = np.load(\"rawcondpp.npy\")\n",
    "seq = np.argmax(pp, axis=-1)\n",
    "seq[np.where(seq==0)] = -1\n",
    "magn_pp = np.sum(seq.reshape([-1,np.prod(seq_dim)]), axis=-1)\n",
    "# xt = np.load(\"xt.npy\")\n",
    "# seq = np.argmax(xt, axis=-1)\n",
    "# seq[np.where(seq==0)] = -1\n",
    "# magn_xt = np.sum(seq.reshape([-1,np.prod(seq_dim)]), axis=-1)\n",
    "CEloss = np.load(\"CELoss.npy\")\n",
    "RCloss = np.load(\"RCLoss.npy\")\n",
    "MSEloss = np.load(\"MSEloss.npy\")"
   ]
  },
  {
   "cell_type": "code",
   "execution_count": 28,
   "metadata": {},
   "outputs": [],
   "source": [
    "rc_pp = RC(torch.from_numpy(pp)).numpy()"
   ]
  },
  {
   "cell_type": "code",
   "execution_count": 29,
   "metadata": {},
   "outputs": [],
   "source": [
    "rc_logits = np.load(\"rc_logits.npy\")"
   ]
  },
  {
   "cell_type": "code",
   "execution_count": 30,
   "metadata": {},
   "outputs": [],
   "source": [
    "kderclogits = np.load(\"kde_rc_logits.npy\")\n",
    "kdercseq = np.load(\"kde_rc_seq.npy\")"
   ]
  },
  {
   "cell_type": "code",
   "execution_count": null,
   "metadata": {},
   "outputs": [],
   "source": [
    "_ = plt.hist(rc_pp, bins=100)"
   ]
  },
  {
   "cell_type": "code",
   "execution_count": null,
   "metadata": {},
   "outputs": [],
   "source": [
    "_ = plt.hist(rc_logits, bins=100)"
   ]
  },
  {
   "cell_type": "code",
   "execution_count": null,
   "metadata": {},
   "outputs": [],
   "source": [
    "# plt.plot(np.arange(37)*2, RCloss)\n",
    "plt.plot(np.arange(np.prod(seq_dim)+1)*2-np.prod(seq_dim), kderclogits)\n",
    "plt.plot(np.arange(np.prod(seq_dim)+1)*2-np.prod(seq_dim), kdercseq)\n"
   ]
  },
  {
   "cell_type": "code",
   "execution_count": null,
   "metadata": {},
   "outputs": [],
   "source": [
    "plt.plot(np.arange(np.prod(seq_dim)+1)*2-np.prod(seq_dim), RCloss)"
   ]
  },
  {
   "cell_type": "code",
   "execution_count": null,
   "metadata": {},
   "outputs": [],
   "source": [
    "plt.scatter(cls,e,c=MSEloss)"
   ]
  },
  {
   "cell_type": "code",
   "execution_count": null,
   "metadata": {},
   "outputs": [],
   "source": [
    "plt.scatter(cls,e,c=CEloss.mean(-1))"
   ]
  }
 ],
 "metadata": {
  "kernelspec": {
   "display_name": "base",
   "language": "python",
   "name": "python3"
  },
  "language_info": {
   "codemirror_mode": {
    "name": "ipython",
    "version": 3
   },
   "file_extension": ".py",
   "mimetype": "text/x-python",
   "name": "python",
   "nbconvert_exporter": "python",
   "pygments_lexer": "ipython3",
   "version": "3.10.14"
  }
 },
 "nbformat": 4,
 "nbformat_minor": 2
}
