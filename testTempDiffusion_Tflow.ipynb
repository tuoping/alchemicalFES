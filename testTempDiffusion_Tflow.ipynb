{
 "cells": [
  {
   "cell_type": "code",
   "execution_count": 99,
   "metadata": {},
   "outputs": [],
   "source": [
    "import scipy\n",
    "import os\n",
    "import numpy as np\n",
    "import matplotlib.pyplot as plt\n",
    "seq_dim=(6,6)"
   ]
  },
  {
   "cell_type": "code",
   "execution_count": null,
   "metadata": {},
   "outputs": [],
   "source": [
    "d = scipy.stats.expon().rvs(size=1000)\n",
    "plt.hist(d)"
   ]
  },
  {
   "cell_type": "code",
   "execution_count": 100,
   "metadata": {},
   "outputs": [],
   "source": [
    "import torch\n",
    "import seaborn as sns\n",
    "from torch.autograd import grad as torchgrad"
   ]
  },
  {
   "cell_type": "code",
   "execution_count": 101,
   "metadata": {},
   "outputs": [],
   "source": [
    "\n",
    "def HMCwithAccept(energy,x,length,steps,epsilon):\n",
    "    shape = [i if no==0 else 1 for no,i in enumerate(x.shape)]\n",
    "    def grad(z):\n",
    "        return torchgrad(energy(z),z,grad_outputs=z.new_ones(z.shape[0]))[0]\n",
    "\n",
    "    torch.set_grad_enabled(False)\n",
    "    E = energy(x)\n",
    "    torch.set_grad_enabled(True)\n",
    "    g = grad(x.requires_grad_())\n",
    "    torch.set_grad_enabled(False)\n",
    "    g = g.detach()\n",
    "    for l in range(length):\n",
    "        p = x.new_empty(size=x.size()).normal_()\n",
    "        H = ((0.5*p*p).reshape(p.shape[0], -1).sum(dim=1) + E)\n",
    "        xnew = x\n",
    "        gnew = g\n",
    "        for _ in range(steps):\n",
    "            p = p- epsilon* gnew/2.\n",
    "            xnew = (xnew + epsilon * p)\n",
    "            torch.set_grad_enabled(True)\n",
    "            gnew = grad(xnew.requires_grad_())\n",
    "            torch.set_grad_enabled(False)\n",
    "            xnew = xnew.detach()\n",
    "            gnew = gnew.detach()\n",
    "            p = p- epsilon* gnew/2.\n",
    "        Enew = energy(xnew)\n",
    "        Hnew = (0.5*p*p).reshape(p.shape[0], -1).sum(dim=1) + Enew\n",
    "        diff = H-Hnew\n",
    "        accept = (diff.exp() >= diff.uniform_()).to(x)\n",
    "\n",
    "        E = accept*Enew + (1.-accept)*E\n",
    "        acceptMask = accept.reshape(shape)\n",
    "        x = acceptMask*xnew + (1.-acceptMask)*x\n",
    "        g = acceptMask*gnew + (1.-acceptMask)*g\n",
    "    torch.set_grad_enabled(True)\n",
    "\n",
    "    return x, accept\n",
    "\n",
    "def HMC(*args,**kwargs):\n",
    "    x, _ = HMCwithAccept(*args,**kwargs)\n",
    "    return x\n",
    "\n",
    "class Lattice:\n",
    "    def __init__(self,L, d, BC='periodic'):\n",
    "        self.L = L \n",
    "        self.d = d\n",
    "        self.shape = [L]*d \n",
    "        self.Nsite = L**d \n",
    "        self.BC = BC\n",
    "\n",
    "    def move(self, idx, d, shift):\n",
    "        coord = self.index2coord(idx)\n",
    "        coord[d] += shift\n",
    "\n",
    "        if self.BC != 'periodic':\n",
    "            if (coord[d]>=self.L) or (coord[d]<0):\n",
    "                return None\n",
    "        #wrap around because of the PBC\n",
    "        if (coord[d]>=self.L): coord[d] -= self.L; \n",
    "        if (coord[d]<0): coord[d] += self.L; \n",
    "\n",
    "        return self.coord2index(coord)\n",
    "\n",
    "    def index2coord(self, idx):\n",
    "        coord = np.zeros(self.d, int) \n",
    "        for d in range(self.d):\n",
    "            coord[self.d-d-1] = idx%self.L;\n",
    "            idx /= self.L\n",
    "        return coord \n",
    "\n",
    "    def coord2index(self, coord):\n",
    "        idx = coord[0]\n",
    "        for d in range(1, self.d):\n",
    "            idx *= self.L; \n",
    "            idx += coord[d]\n",
    "        return idx \n",
    "\n",
    "class Hypercube(Lattice):\n",
    "    def __init__(self,L, d, BC='periodic'):\n",
    "        super(Hypercube, self).__init__(L, d, BC)\n",
    "        self.Adj = np.zeros((self.Nsite,self.Nsite), int)\n",
    "        for i in range(self.Nsite):\n",
    "            for d in range(self.d):\n",
    "                j = self.move(i, d, 1)\n",
    "\n",
    "                if j is not None:\n",
    "                    self.Adj[i, j] = 1.0\n",
    "                    self.Adj[j, i] = 1.0\n",
    "\n",
    "from scipy.linalg import eigh, inv, det \n",
    "import math\n",
    "class Ising:\n",
    "    def __init__(self,L,d,beta,name = None):\n",
    "        if name is None:\n",
    "            name = \"Ising_l\"+str(L)+\"_d\" +str(d)+\"_beta\"+str(beta)\n",
    "        self.beta = beta\n",
    "        self.lattice = Hypercube(L, d, 'periodic')\n",
    "        self.K = self.lattice.Adj*beta\n",
    "    \n",
    "        w, v = eigh(self.K)    \n",
    "        offset = 0.1-w.min()\n",
    "        # print(\"offset\", offset)\n",
    "        self.K += np.eye(w.size)*offset\n",
    "        sign, logdet = np.linalg.slogdet(self.K)\n",
    "        #print (sign)\n",
    "        #print (0.5*self.nvars[0] *(np.log(4.)-offset - np.log(2.*np.pi)) - 0.5*logdet)\n",
    "        self.Kinv = torch.from_numpy(inv(self.K)).to(torch.float32)\n",
    "        self.nvars = [L**d]\n",
    "        \n",
    "    def energy(self,x):\n",
    "        return -(-0.5*(torch.mm(x.reshape(-1, self.nvars[0]),self.Kinv) * x.reshape(-1, self.nvars[0])).sum(dim=1) \\\n",
    "        + (torch.nn.Softplus()(2.*x.reshape(-1, self.nvars[0])) - x.reshape(-1, self.nvars[0]) - math.log(2.)).sum(dim=1))\n",
    "    \n",
    "\n",
    "    def sample(self, batchSize, thermalSteps = 50, interSteps=5, epsilon=0.1, initial = None):\n",
    "        return self._sampleWithHMC(batchSize,thermalSteps,interSteps, epsilon, initial)\n",
    "\n",
    "\n",
    "    def _sampleWithHMC(self,batchSize,thermalSteps = 50, interSteps = 5, epsilon=0.1, initial = None):\n",
    "        if initial is None:\n",
    "            initial = torch.randn([batchSize]+self.nvars,requires_grad=True)\n",
    "        initial = HMC(self.energy,initial,thermalSteps,interSteps,epsilon)\n",
    "        return initial.detach()\n"
   ]
  },
  {
   "cell_type": "markdown",
   "metadata": {},
   "source": [
    "# Test the gaussian integral continuous Ising model\n",
    "## Sample by annealing"
   ]
  },
  {
   "cell_type": "code",
   "execution_count": null,
   "metadata": {},
   "outputs": [],
   "source": [
    "# B=2**15\n",
    "# H=6\n",
    "# W=6\n",
    "# xx = torch.concat([torch.normal(0.0001, 2, size=(int(B/2),H,W)), torch.normal(-0.0001, 2, size=(int(B/2),H,W))], dim=0)\n",
    "\n",
    "# ising = Ising(6,2,1.1)\n",
    "# xx = ising.sample(1000)\n",
    "# plt.figure()\n",
    "# plt.subplot(121)\n",
    "# plt.hist(xx.reshape(-1), bins=100)\n",
    "# plt.subplot(122)\n",
    "# plt.hist(xx.reshape(-1,36).sum(-1), bins=100)\n",
    "plt.rcParams['figure.figsize'] = (17, 5)\n",
    "ising = Ising(6,2,0.1)\n",
    "xx0 = ising.sample(10000).detach()\n",
    "plt.figure()\n",
    "plt.subplot(131)\n",
    "_ = plt.scatter(xx0.reshape(-1,36)[:,0], xx0.reshape(-1,36)[:,1])\n",
    "plt.colorbar()\n",
    "plt.subplot(132)\n",
    "_ = plt.hist(xx0.reshape(-1), bins=100)\n",
    "plt.subplot(133)\n",
    "_ = plt.hist(xx0.reshape(-1,36).sum(-1), bins=100)"
   ]
  },
  {
   "cell_type": "code",
   "execution_count": 102,
   "metadata": {},
   "outputs": [],
   "source": [
    "from model.dna_models import CNNModel2D"
   ]
  },
  {
   "cell_type": "code",
   "execution_count": 103,
   "metadata": {},
   "outputs": [],
   "source": [
    "seq_dim=(6,6)\n",
    "class Hyperparams():\n",
    "    def __init__(self, mode=None, hidden_dim=64, num_cnn_stacks=3, lr=5e-4, dropout=0.0, cls_free_guidance=False, clean_data=False):\n",
    "        self.hidden_dim = hidden_dim\n",
    "        self.dropout = dropout\n",
    "        self.kernel_size = 3\n",
    "        self.padding = 1\n",
    "        self.cls_free_guidance = cls_free_guidance\n",
    "        self.clean_data = clean_data\n",
    "        self.num_cnn_stacks = num_cnn_stacks\n",
    "        self.lr = lr\n",
    "        self.wandb = False\n",
    "        self.seq_dim = seq_dim\n",
    "        self.channels = 1\n",
    "\n",
    "hyperparams = Hyperparams()\n",
    "model = CNNModel2D(hyperparams, hyperparams.channels, 1)"
   ]
  },
  {
   "cell_type": "code",
   "execution_count": 104,
   "metadata": {},
   "outputs": [],
   "source": [
    "delta_beta = 0.01"
   ]
  },
  {
   "cell_type": "code",
   "execution_count": null,
   "metadata": {},
   "outputs": [],
   "source": [
    "\n",
    "ising = Ising(6,2,0.1+1*delta_beta)\n",
    "xx1 = ising.sample(1000, initial=xx0)\n",
    "plt.figure()\n",
    "plt.subplot(131)\n",
    "_ = plt.scatter(xx1.reshape(-1,36)[:,0], xx1.reshape(-1,36)[:,1])\n",
    "plt.colorbar()\n",
    "plt.subplot(132)\n",
    "_ = plt.hist(xx1.reshape(-1), bins=100)\n",
    "plt.subplot(133)\n",
    "_ = plt.hist(xx1.reshape(-1,36).sum(-1), bins=100)"
   ]
  },
  {
   "cell_type": "code",
   "execution_count": null,
   "metadata": {},
   "outputs": [],
   "source": [
    "xx0 = xx0.detach()\n",
    "plt.hist(xx0.reshape(-1), bins=100, edgecolor='black', histtype='step')\n",
    "xx1 = xx1.detach()\n",
    "plt.hist(xx1.reshape(-1), bins=100, edgecolor='red', histtype='step')"
   ]
  },
  {
   "cell_type": "code",
   "execution_count": null,
   "metadata": {},
   "outputs": [],
   "source": [
    "dxx = (xx1-xx0)\n",
    "plt.hist(dxx.reshape(-1))\n",
    "print(dxx.shape)"
   ]
  },
  {
   "cell_type": "code",
   "execution_count": 118,
   "metadata": {},
   "outputs": [],
   "source": [
    "safe_factor = 0.01\n",
    "def norm_loss(xx0, dxx, t, t1=0.25):\n",
    "    B = xx0.shape[0]\n",
    "    dxx_model = model(xx0.reshape(-1,6,6,1), torch.ones(B)*t1-t)\n",
    "    dxx_model = dxx_model\n",
    "    dxx = dxx.reshape(-1,36)/(t1-t)[:,None]*safe_factor\n",
    "\n",
    "    loss = torch.norm(dxx.reshape(-1,1)-dxx_model.reshape(-1,1), dim=-1)**2/2\n",
    "    return loss.reshape(-1).mean()"
   ]
  },
  {
   "cell_type": "code",
   "execution_count": 106,
   "metadata": {},
   "outputs": [],
   "source": [
    "import torch\n",
    "import torch.nn as nn\n",
    "import torch.optim as optim\n",
    "import torch.autograd as autograd\n",
    "optimizer = optim.Adam(model.parameters(), lr=3e-3)"
   ]
  },
  {
   "cell_type": "code",
   "execution_count": null,
   "metadata": {},
   "outputs": [],
   "source": [
    "print( np.linspace(0.1,0.25,32))\n",
    "print(128/16)"
   ]
  },
  {
   "cell_type": "code",
   "execution_count": 119,
   "metadata": {},
   "outputs": [
    {
     "name": "stdout",
     "output_type": "stream",
     "text": [
      "[0, 0.35543888807296753]\n",
      "[10, 0.3722451329231262]\n",
      "[20, 0.35001885890960693]\n",
      "[30, 0.3578617572784424]\n",
      "[40, 0.36452293395996094]\n",
      "[50, 0.3899277150630951]\n",
      "[60, 0.3644407391548157]\n"
     ]
    },
    {
     "ename": "KeyboardInterrupt",
     "evalue": "",
     "output_type": "error",
     "traceback": [
      "\u001b[0;31m---------------------------------------------------------------------------\u001b[0m",
      "\u001b[0;31mKeyboardInterrupt\u001b[0m                         Traceback (most recent call last)",
      "Cell \u001b[0;32mIn[119], line 16\u001b[0m\n\u001b[1;32m     14\u001b[0m xx0 \u001b[38;5;241m=\u001b[39m ising0\u001b[38;5;241m.\u001b[39msample(batch_size)\u001b[38;5;241m.\u001b[39mdetach()\n\u001b[1;32m     15\u001b[0m ising1 \u001b[38;5;241m=\u001b[39m ising_models[idx_t_sample[num_batches]]\n\u001b[0;32m---> 16\u001b[0m xx1 \u001b[38;5;241m=\u001b[39m \u001b[43mising1\u001b[49m\u001b[38;5;241;43m.\u001b[39;49m\u001b[43msample\u001b[49m\u001b[43m(\u001b[49m\u001b[43mbatch_size\u001b[49m\u001b[43m,\u001b[49m\u001b[43m \u001b[49m\u001b[43minitial\u001b[49m\u001b[38;5;241;43m=\u001b[39;49m\u001b[43mxx0\u001b[49m\u001b[43m)\u001b[49m\u001b[38;5;241m.\u001b[39mdetach()\n\u001b[1;32m     17\u001b[0m t1 \u001b[38;5;241m=\u001b[39m np\u001b[38;5;241m.\u001b[39mones(batch_size)\u001b[38;5;241m*\u001b[39mt_range[idx_t_sample[num_batches]]\n\u001b[1;32m     18\u001b[0m \u001b[38;5;28;01mif\u001b[39;00m num_batches \u001b[38;5;241m==\u001b[39m \u001b[38;5;241m0\u001b[39m:\n",
      "Cell \u001b[0;32mIn[101], line 116\u001b[0m, in \u001b[0;36mIsing.sample\u001b[0;34m(self, batchSize, thermalSteps, interSteps, epsilon, initial)\u001b[0m\n\u001b[1;32m    115\u001b[0m \u001b[38;5;28;01mdef\u001b[39;00m \u001b[38;5;21msample\u001b[39m(\u001b[38;5;28mself\u001b[39m, batchSize, thermalSteps \u001b[38;5;241m=\u001b[39m \u001b[38;5;241m50\u001b[39m, interSteps\u001b[38;5;241m=\u001b[39m\u001b[38;5;241m5\u001b[39m, epsilon\u001b[38;5;241m=\u001b[39m\u001b[38;5;241m0.1\u001b[39m, initial \u001b[38;5;241m=\u001b[39m \u001b[38;5;28;01mNone\u001b[39;00m):\n\u001b[0;32m--> 116\u001b[0m     \u001b[38;5;28;01mreturn\u001b[39;00m \u001b[38;5;28;43mself\u001b[39;49m\u001b[38;5;241;43m.\u001b[39;49m\u001b[43m_sampleWithHMC\u001b[49m\u001b[43m(\u001b[49m\u001b[43mbatchSize\u001b[49m\u001b[43m,\u001b[49m\u001b[43mthermalSteps\u001b[49m\u001b[43m,\u001b[49m\u001b[43minterSteps\u001b[49m\u001b[43m,\u001b[49m\u001b[43m \u001b[49m\u001b[43mepsilon\u001b[49m\u001b[43m,\u001b[49m\u001b[43m \u001b[49m\u001b[43minitial\u001b[49m\u001b[43m)\u001b[49m\n",
      "Cell \u001b[0;32mIn[101], line 122\u001b[0m, in \u001b[0;36mIsing._sampleWithHMC\u001b[0;34m(self, batchSize, thermalSteps, interSteps, epsilon, initial)\u001b[0m\n\u001b[1;32m    120\u001b[0m \u001b[38;5;28;01mif\u001b[39;00m initial \u001b[38;5;129;01mis\u001b[39;00m \u001b[38;5;28;01mNone\u001b[39;00m:\n\u001b[1;32m    121\u001b[0m     initial \u001b[38;5;241m=\u001b[39m torch\u001b[38;5;241m.\u001b[39mrandn([batchSize]\u001b[38;5;241m+\u001b[39m\u001b[38;5;28mself\u001b[39m\u001b[38;5;241m.\u001b[39mnvars,requires_grad\u001b[38;5;241m=\u001b[39m\u001b[38;5;28;01mTrue\u001b[39;00m)\n\u001b[0;32m--> 122\u001b[0m initial \u001b[38;5;241m=\u001b[39m \u001b[43mHMC\u001b[49m\u001b[43m(\u001b[49m\u001b[38;5;28;43mself\u001b[39;49m\u001b[38;5;241;43m.\u001b[39;49m\u001b[43menergy\u001b[49m\u001b[43m,\u001b[49m\u001b[43minitial\u001b[49m\u001b[43m,\u001b[49m\u001b[43mthermalSteps\u001b[49m\u001b[43m,\u001b[49m\u001b[43minterSteps\u001b[49m\u001b[43m,\u001b[49m\u001b[43mepsilon\u001b[49m\u001b[43m)\u001b[49m\n\u001b[1;32m    123\u001b[0m \u001b[38;5;28;01mreturn\u001b[39;00m initial\u001b[38;5;241m.\u001b[39mdetach()\n",
      "Cell \u001b[0;32mIn[101], line 40\u001b[0m, in \u001b[0;36mHMC\u001b[0;34m(*args, **kwargs)\u001b[0m\n\u001b[1;32m     39\u001b[0m \u001b[38;5;28;01mdef\u001b[39;00m \u001b[38;5;21mHMC\u001b[39m(\u001b[38;5;241m*\u001b[39margs,\u001b[38;5;241m*\u001b[39m\u001b[38;5;241m*\u001b[39mkwargs):\n\u001b[0;32m---> 40\u001b[0m     x, _ \u001b[38;5;241m=\u001b[39m \u001b[43mHMCwithAccept\u001b[49m\u001b[43m(\u001b[49m\u001b[38;5;241;43m*\u001b[39;49m\u001b[43margs\u001b[49m\u001b[43m,\u001b[49m\u001b[38;5;241;43m*\u001b[39;49m\u001b[38;5;241;43m*\u001b[39;49m\u001b[43mkwargs\u001b[49m\u001b[43m)\u001b[49m\n\u001b[1;32m     41\u001b[0m     \u001b[38;5;28;01mreturn\u001b[39;00m x\n",
      "Cell \u001b[0;32mIn[101], line 21\u001b[0m, in \u001b[0;36mHMCwithAccept\u001b[0;34m(energy, x, length, steps, epsilon)\u001b[0m\n\u001b[1;32m     19\u001b[0m xnew \u001b[38;5;241m=\u001b[39m (xnew \u001b[38;5;241m+\u001b[39m epsilon \u001b[38;5;241m*\u001b[39m p)\n\u001b[1;32m     20\u001b[0m torch\u001b[38;5;241m.\u001b[39mset_grad_enabled(\u001b[38;5;28;01mTrue\u001b[39;00m)\n\u001b[0;32m---> 21\u001b[0m gnew \u001b[38;5;241m=\u001b[39m \u001b[43mgrad\u001b[49m\u001b[43m(\u001b[49m\u001b[43mxnew\u001b[49m\u001b[38;5;241;43m.\u001b[39;49m\u001b[43mrequires_grad_\u001b[49m\u001b[43m(\u001b[49m\u001b[43m)\u001b[49m\u001b[43m)\u001b[49m\n\u001b[1;32m     22\u001b[0m torch\u001b[38;5;241m.\u001b[39mset_grad_enabled(\u001b[38;5;28;01mFalse\u001b[39;00m)\n\u001b[1;32m     23\u001b[0m xnew \u001b[38;5;241m=\u001b[39m xnew\u001b[38;5;241m.\u001b[39mdetach()\n",
      "Cell \u001b[0;32mIn[101], line 4\u001b[0m, in \u001b[0;36mHMCwithAccept.<locals>.grad\u001b[0;34m(z)\u001b[0m\n\u001b[1;32m      3\u001b[0m \u001b[38;5;28;01mdef\u001b[39;00m \u001b[38;5;21mgrad\u001b[39m(z):\n\u001b[0;32m----> 4\u001b[0m     \u001b[38;5;28;01mreturn\u001b[39;00m \u001b[43mtorchgrad\u001b[49m\u001b[43m(\u001b[49m\u001b[43menergy\u001b[49m\u001b[43m(\u001b[49m\u001b[43mz\u001b[49m\u001b[43m)\u001b[49m\u001b[43m,\u001b[49m\u001b[43mz\u001b[49m\u001b[43m,\u001b[49m\u001b[43mgrad_outputs\u001b[49m\u001b[38;5;241;43m=\u001b[39;49m\u001b[43mz\u001b[49m\u001b[38;5;241;43m.\u001b[39;49m\u001b[43mnew_ones\u001b[49m\u001b[43m(\u001b[49m\u001b[43mz\u001b[49m\u001b[38;5;241;43m.\u001b[39;49m\u001b[43mshape\u001b[49m\u001b[43m[\u001b[49m\u001b[38;5;241;43m0\u001b[39;49m\u001b[43m]\u001b[49m\u001b[43m)\u001b[49m\u001b[43m)\u001b[49m[\u001b[38;5;241m0\u001b[39m]\n",
      "File \u001b[0;32m~/pkgs/deepmd-kit/envs/seq/lib/python3.9/site-packages/torch/autograd/__init__.py:394\u001b[0m, in \u001b[0;36mgrad\u001b[0;34m(outputs, inputs, grad_outputs, retain_graph, create_graph, only_inputs, allow_unused, is_grads_batched, materialize_grads)\u001b[0m\n\u001b[1;32m    390\u001b[0m     result \u001b[38;5;241m=\u001b[39m _vmap_internals\u001b[38;5;241m.\u001b[39m_vmap(vjp, \u001b[38;5;241m0\u001b[39m, \u001b[38;5;241m0\u001b[39m, allow_none_pass_through\u001b[38;5;241m=\u001b[39m\u001b[38;5;28;01mTrue\u001b[39;00m)(\n\u001b[1;32m    391\u001b[0m         grad_outputs_\n\u001b[1;32m    392\u001b[0m     )\n\u001b[1;32m    393\u001b[0m \u001b[38;5;28;01melse\u001b[39;00m:\n\u001b[0;32m--> 394\u001b[0m     result \u001b[38;5;241m=\u001b[39m \u001b[43mVariable\u001b[49m\u001b[38;5;241;43m.\u001b[39;49m\u001b[43m_execution_engine\u001b[49m\u001b[38;5;241;43m.\u001b[39;49m\u001b[43mrun_backward\u001b[49m\u001b[43m(\u001b[49m\u001b[43m  \u001b[49m\u001b[38;5;66;43;03m# Calls into the C++ engine to run the backward pass\u001b[39;49;00m\n\u001b[1;32m    395\u001b[0m \u001b[43m        \u001b[49m\u001b[43mt_outputs\u001b[49m\u001b[43m,\u001b[49m\n\u001b[1;32m    396\u001b[0m \u001b[43m        \u001b[49m\u001b[43mgrad_outputs_\u001b[49m\u001b[43m,\u001b[49m\n\u001b[1;32m    397\u001b[0m \u001b[43m        \u001b[49m\u001b[43mretain_graph\u001b[49m\u001b[43m,\u001b[49m\n\u001b[1;32m    398\u001b[0m \u001b[43m        \u001b[49m\u001b[43mcreate_graph\u001b[49m\u001b[43m,\u001b[49m\n\u001b[1;32m    399\u001b[0m \u001b[43m        \u001b[49m\u001b[43mt_inputs\u001b[49m\u001b[43m,\u001b[49m\n\u001b[1;32m    400\u001b[0m \u001b[43m        \u001b[49m\u001b[43mallow_unused\u001b[49m\u001b[43m,\u001b[49m\n\u001b[1;32m    401\u001b[0m \u001b[43m        \u001b[49m\u001b[43maccumulate_grad\u001b[49m\u001b[38;5;241;43m=\u001b[39;49m\u001b[38;5;28;43;01mFalse\u001b[39;49;00m\u001b[43m,\u001b[49m\n\u001b[1;32m    402\u001b[0m \u001b[43m    \u001b[49m\u001b[43m)\u001b[49m  \u001b[38;5;66;03m# Calls into the C++ engine to run the backward pass\u001b[39;00m\n\u001b[1;32m    403\u001b[0m \u001b[38;5;28;01mif\u001b[39;00m materialize_grads:\n\u001b[1;32m    404\u001b[0m     result \u001b[38;5;241m=\u001b[39m \u001b[38;5;28mtuple\u001b[39m(\n\u001b[1;32m    405\u001b[0m         output\n\u001b[1;32m    406\u001b[0m         \u001b[38;5;28;01mif\u001b[39;00m output \u001b[38;5;129;01mis\u001b[39;00m \u001b[38;5;129;01mnot\u001b[39;00m \u001b[38;5;28;01mNone\u001b[39;00m\n\u001b[1;32m    407\u001b[0m         \u001b[38;5;28;01melse\u001b[39;00m torch\u001b[38;5;241m.\u001b[39mzeros_like(\u001b[38;5;28minput\u001b[39m, requires_grad\u001b[38;5;241m=\u001b[39m\u001b[38;5;28;01mTrue\u001b[39;00m)\n\u001b[1;32m    408\u001b[0m         \u001b[38;5;28;01mfor\u001b[39;00m (output, \u001b[38;5;28minput\u001b[39m) \u001b[38;5;129;01min\u001b[39;00m \u001b[38;5;28mzip\u001b[39m(result, t_inputs)\n\u001b[1;32m    409\u001b[0m     )\n",
      "\u001b[0;31mKeyboardInterrupt\u001b[0m: "
     ]
    }
   ],
   "source": [
    "l_curve = []\n",
    "batch_size=16\n",
    "ising0 = Ising(6,2,0.1)\n",
    "# ising1 = Ising(6,2,0.25)\n",
    "t_range = np.linspace(0.1,0.249,32)\n",
    "idx_t_sample = np.arange(len(t_range))\n",
    "np.random.shuffle(idx_t_sample)\n",
    "ising_models = []\n",
    "for i in range(len(t_range)):\n",
    "    ising_models.append(Ising(6,2,t_range[i]))\n",
    "\n",
    "for t in range(20000):\n",
    "    for num_batches in range(16):\n",
    "        xx0 = ising0.sample(batch_size).detach()\n",
    "        ising1 = ising_models[idx_t_sample[num_batches]]\n",
    "        xx1 = ising1.sample(batch_size, initial=xx0).detach()\n",
    "        t1 = np.ones(batch_size)*t_range[idx_t_sample[num_batches]]\n",
    "        if num_batches == 0:\n",
    "            xx0sample = xx0.detach().numpy()\n",
    "            dxx = ((xx1-xx0).detach().numpy())\n",
    "            tsample = t1\n",
    "        else:\n",
    "            xx0sample = np.concatenate([xx0sample,xx0.detach().numpy()], axis=0)\n",
    "            dxx = np.concatenate([dxx, (xx1-xx0).detach().numpy()], axis=0)\n",
    "            tsample = np.concatenate([tsample,t1], axis=0)\n",
    "    loss = norm_loss(torch.from_numpy(xx0sample).to(torch.float32), torch.from_numpy(dxx).to(torch.float32), torch.from_numpy(tsample).to(torch.float32))\n",
    "    optimizer.zero_grad()\n",
    "    loss.backward()\n",
    "    optimizer.step()\n",
    "    if ((t % 20) == 0):\n",
    "        l_curve.append([t,loss.item()])\n",
    "    if ((t % 10) == 0):\n",
    "        print([t,loss.item()])\n",
    "    "
   ]
  },
  {
   "cell_type": "code",
   "execution_count": 111,
   "metadata": {},
   "outputs": [
    {
     "data": {
      "image/png": "[encoded data removed]",
      "text/plain": [
       "<Figure size 1700x500 with 1 Axes>"
      ]
     },
     "metadata": {},
     "output_type": "display_data"
    }
   ],
   "source": [
    "l_curve_fm = np.array(l_curve)\n",
    "plt.loglog(l_curve_fm[1:,0],l_curve_fm[1:,1])\n",
    "plt.xlabel('Training Step')\n",
    "plt.ylabel('FM Loss')\n",
    "plt.show()"
   ]
  },
  {
   "cell_type": "code",
   "execution_count": 112,
   "metadata": {},
   "outputs": [],
   "source": [
    "xx0 = ising0.sample(1000).detach()\n",
    "xx0 = xx0.detach().numpy()\n",
    "t_range = np.linspace(0.1,0.249,32)\n",
    "dt = t_range[1]-t_range[0]\n",
    "for i in range(len(t_range)):\n",
    "    dxx = model(torch.from_numpy(xx0).reshape(1000,6,6,1), torch.ones(1000)*0.1).detach().numpy()/safe_factor*dt\n",
    "    xx1 = xx0.reshape(1000,6,6)+dxx.reshape(1000,6,6)"
   ]
  },
  {
   "cell_type": "code",
   "execution_count": 113,
   "metadata": {},
   "outputs": [],
   "source": [
    "ising_control = Ising(6,2,0.25)\n",
    "xx1_control = ising_control.sample(1000, initial=torch.from_numpy(xx0))\n",
    "xx1_control = xx1_control.detach().numpy()\n",
    "xx1_control = xx1_control.reshape(1000,36)\n"
   ]
  },
  {
   "cell_type": "code",
   "execution_count": 115,
   "metadata": {},
   "outputs": [
    {
     "data": {
      "text/plain": [
       "(array([  1.,   1.,   2.,   5.,   6.,   8.,   3.,   9.,  13.,  18.,  28.,\n",
       "         28.,  37.,  47.,  62.,  67.,  91., 107., 145., 189., 185., 221.,\n",
       "        216., 298., 336., 367., 410., 464., 480., 555., 575., 626., 644.,\n",
       "        699., 704., 700., 743., 840., 735., 725., 780., 783., 744., 754.,\n",
       "        728., 736., 721., 700., 777., 702., 740., 752., 721., 721., 769.,\n",
       "        736., 735., 769., 778., 768., 743., 789., 751., 680., 704., 673.,\n",
       "        574., 545., 500., 462., 448., 410., 350., 294., 278., 251., 213.,\n",
       "        227., 153., 139., 106.,  85.,  81.,  53.,  32.,  40.,  35.,  21.,\n",
       "         16.,  11.,   9.,   4.,   5.,   2.,   4.,   4.,   2.,   1.,   0.,\n",
       "          1.]),\n",
       " array([-5.48083019, -5.36857319, -5.25631666, -5.14405966, -5.03180313,\n",
       "        -4.91954613, -4.8072896 , -4.6950326 , -4.58277607, -4.47051907,\n",
       "        -4.35826254, -4.24600554, -4.13374901, -4.021492  , -3.90923524,\n",
       "        -3.79697847, -3.68472171, -3.57246494, -3.46020818, -3.34795141,\n",
       "        -3.23569465, -3.12343788, -3.01118112, -2.89892435, -2.78666759,\n",
       "        -2.67441082, -2.56215405, -2.44989729, -2.33764052, -2.22538376,\n",
       "        -2.11312699, -2.00087023, -1.88861334, -1.77635658, -1.66409981,\n",
       "        -1.55184305, -1.43958628, -1.32732952, -1.21507275, -1.10281599,\n",
       "        -0.99055922, -0.8783024 , -0.76604563, -0.65378886, -0.5415321 ,\n",
       "        -0.42927533, -0.31701854, -0.20476177, -0.092505  ,  0.01975178,\n",
       "         0.13200855,  0.24426533,  0.35652211,  0.46877888,  0.58103567,\n",
       "         0.69329244,  0.8055492 ,  0.91780597,  1.03006279,  1.14231956,\n",
       "         1.25457633,  1.36683309,  1.47908986,  1.59134662,  1.70360339,\n",
       "         1.81586015,  1.92811692,  2.0403738 ,  2.15263057,  2.26488733,\n",
       "         2.3771441 ,  2.48940086,  2.60165763,  2.71391439,  2.82617116,\n",
       "         2.93842793,  3.05068469,  3.16294146,  3.27519822,  3.38745499,\n",
       "         3.49971175,  3.61196852,  3.72422528,  3.83648205,  3.94873881,\n",
       "         4.06099558,  4.17325258,  4.28550911,  4.39776611,  4.51002264,\n",
       "         4.62227964,  4.73453617,  4.84679317,  4.9590497 ,  5.07130671,\n",
       "         5.18356323,  5.29582024,  5.40807676,  5.52033377,  5.63259029,\n",
       "         5.7448473 ]),\n",
       " [<matplotlib.patches.Polygon at 0x14b145cb2e80>])"
      ]
     },
     "execution_count": 115,
     "metadata": {},
     "output_type": "execute_result"
    },
    {
     "data": {
      "image/png": "[encoded data removed]",
      "text/plain": [
       "<Figure size 1700x500 with 1 Axes>"
      ]
     },
     "metadata": {},
     "output_type": "display_data"
    }
   ],
   "source": [
    "\n",
    "# plt.hist(xx0.reshape(-1), bins=100, edgecolor='black', histtype='step')\n",
    "plt.hist(xx1.reshape(-1), bins=100, edgecolor='red', histtype='step')\n",
    "plt.hist(xx1_control.reshape(-1), bins=100, edgecolor='blue', histtype='step')"
   ]
  },
  {
   "cell_type": "code",
   "execution_count": 114,
   "metadata": {},
   "outputs": [
    {
     "data": {
      "text/plain": [
       "(array([ 1.,  0.,  0.,  1.,  0.,  0.,  0.,  1.,  0.,  0.,  0.,  1.,  0.,\n",
       "         1.,  2.,  6.,  6.,  4.,  3.,  8.,  3.,  5.,  4.,  3.,  5.,  6.,\n",
       "         6.,  8., 11., 15.,  5., 10., 14., 16., 15., 15., 15., 29., 26.,\n",
       "        18., 23., 26., 23., 30., 22., 21., 23., 27., 28., 33., 12., 28.,\n",
       "        22., 26., 31., 28., 23., 27., 31., 19., 15., 18., 10., 20., 20.,\n",
       "         9., 14., 11., 20., 12., 12., 12.,  4., 10.,  9.,  5.,  0.,  4.,\n",
       "         1.,  5.,  0.,  4.,  3.,  4.,  2.,  1.,  1.,  4.,  1.,  1.,  0.,\n",
       "         0.,  1.,  0.,  0.,  0.,  0.,  0.,  0.,  1.]),\n",
       " array([-70.07112885, -68.65292358, -67.23471069, -65.81650543,\n",
       "        -64.39829254, -62.98008728, -61.5618782 , -60.14367294,\n",
       "        -58.72546387, -57.30725479, -55.88904572, -54.47083664,\n",
       "        -53.05263138, -51.6344223 , -50.21621323, -48.79800415,\n",
       "        -47.37979889, -45.96158981, -44.54338074, -43.12517166,\n",
       "        -41.70696259, -40.28875732, -38.87054825, -37.45233917,\n",
       "        -36.0341301 , -34.61592102, -33.19771576, -31.77950668,\n",
       "        -30.36129761, -28.94309044, -27.52488136, -26.10667419,\n",
       "        -24.68846512, -23.27025795, -21.85204887, -20.4338398 ,\n",
       "        -19.01563263, -17.59742355, -16.17921638, -14.76100731,\n",
       "        -13.34279919, -11.92459106, -10.50638294,  -9.08817482,\n",
       "         -7.66996622,  -6.2517581 ,  -4.83354998,  -3.41534162,\n",
       "         -1.99713349,  -0.57892525,   0.83928299,   2.25749111,\n",
       "          3.67569947,   5.09390783,   6.51211596,   7.93032408,\n",
       "          9.34853268,  10.7667408 ,  12.18494892,  13.60315704,\n",
       "         15.02136517,  16.43957329,  17.85778236,  19.27598953,\n",
       "         20.69419861,  22.11240578,  23.53061485,  24.94882393,\n",
       "         26.3670311 ,  27.78524017,  29.20344734,  30.62165642,\n",
       "         32.03986359,  33.45807266,  34.87628174,  36.29449081,\n",
       "         37.71269608,  39.13090515,  40.54911423,  41.9673233 ,\n",
       "         43.38552856,  44.80373764,  46.22194672,  47.64015579,\n",
       "         49.05836487,  50.47657013,  51.89477921,  53.31298828,\n",
       "         54.73119736,  56.14940262,  57.56761169,  58.98582077,\n",
       "         60.40402985,  61.82223892,  63.24044418,  64.65865326,\n",
       "         66.07685852,  67.49507141,  68.91327667,  70.33148956,\n",
       "         71.74969482]),\n",
       " [<matplotlib.patches.Polygon at 0x14b1466c8820>])"
      ]
     },
     "execution_count": 114,
     "metadata": {},
     "output_type": "execute_result"
    },
    {
     "data": {
      "image/png": "[encoded data removed]",
      "text/plain": [
       "<Figure size 1700x500 with 1 Axes>"
      ]
     },
     "metadata": {},
     "output_type": "display_data"
    }
   ],
   "source": [
    "plt.hist(xx0.reshape(-1,36).sum(-1), bins=100, edgecolor='black', histtype='step')\n",
    "plt.hist(xx1.reshape(-1,36).sum(-1), bins=100, edgecolor='red', histtype='step')\n",
    "plt.hist(xx1_control.reshape(-1,36).sum(-1), bins=100, edgecolor='blue', histtype='step')"
   ]
  },
  {
   "cell_type": "code",
   "execution_count": null,
   "metadata": {},
   "outputs": [],
   "source": [
    "l_curve = []\n",
    "batch_size=250\n",
    "ising0 = Ising(6,2,0.1)\n",
    "ising1 = Ising(6,2,0.11)\n",
    "ising2 = Ising(6,2,0.12)\n",
    "ising3 = Ising(6,2,0.13)\n",
    "# ising4 = Ising(6,2,0.14)\n",
    "# ising5 = Ising(6,2,0.15)\n",
    "# ising6 = Ising(6,2,0.16)\n",
    "for t in range(20000):\n",
    "    xx0 = ising0.sample(batch_size).detach()\n",
    "    xx1 = ising1.sample(batch_size, initial=xx0).detach()\n",
    "    xx2 = ising2.sample(batch_size, initial=xx1).detach()\n",
    "    xx3 = ising3.sample(batch_size, initial=xx2).detach()\n",
    "    xx0 = xx0.detach().numpy()\n",
    "    xx1 = xx1.detach().numpy()\n",
    "    xx2 = xx2.detach().numpy()\n",
    "    xx3 = xx3.detach().numpy()\n",
    "    dxx10 = (xx1-xx0).reshape(-1,6,6,1)\n",
    "    t0 = torch.ones(batch_size)*0.1\n",
    "    dxx21 = (xx2-xx1).reshape(-1,6,6,1)\n",
    "    t1 = torch.ones(batch_size)*0.11\n",
    "    dxx32 = (xx3-xx2).reshape(-1,6,6,1)\n",
    "    t2 = torch.ones(batch_size)*0.12\n",
    "    xx = np.concatenate([xx0,xx1,xx2], axis=0)\n",
    "    dxx = np.concatenate([dxx10,dxx21,dxx32], axis=0)\n",
    "    t = np.concatenate([t0,t1,t2], axis=0)\n",
    "    loss = norm_loss(torch.from_numpy(xx), torch.from_numpy(dxx), torch.from_numpy(t))\n",
    "    optimizer.zero_grad()\n",
    "    loss.backward()\n",
    "    optimizer.step()\n",
    "    if ((t % 20) == 0):\n",
    "        l_curve.append([t,loss.item()])\n",
    "    if ((t % 10) == 0):\n",
    "        print([t,loss.item()])\n",
    "    "
   ]
  },
  {
   "cell_type": "code",
   "execution_count": null,
   "metadata": {},
   "outputs": [],
   "source": [
    "ising = Ising(6,2,0.25)\n",
    "xx = ising.sample(1000, thermalSteps = 5000, interSteps=500, initial=xx)\n",
    "plt.figure()\n",
    "plt.subplot(131)\n",
    "_ = plt.hist2d(xx.reshape(-1,36)[:,0], xx.reshape(-1,36)[:,1], bins=100)\n",
    "plt.colorbar()\n",
    "plt.subplot(132)\n",
    "_ = plt.hist(xx.reshape(-1), bins=100)\n",
    "plt.subplot(133)\n",
    "_ = plt.hist(xx.reshape(-1,36).sum(-1), bins=100)"
   ]
  },
  {
   "cell_type": "code",
   "execution_count": null,
   "metadata": {},
   "outputs": [],
   "source": [
    "ising = Ising(6,2,0.26)\n",
    "xx = ising.sample(1000, initial=xx)\n",
    "plt.figure()\n",
    "plt.subplot(131)\n",
    "_ = plt.hist2d(xx.reshape(-1,36)[:,0], xx.reshape(-1,36)[:,1], bins=100)\n",
    "plt.colorbar()\n",
    "plt.subplot(132)\n",
    "_ = plt.hist(xx.reshape(-1), bins=100)\n",
    "plt.subplot(133)\n",
    "_ = plt.hist(xx.reshape(-1,36).sum(-1), bins=100)"
   ]
  },
  {
   "cell_type": "code",
   "execution_count": null,
   "metadata": {},
   "outputs": [],
   "source": [
    "ising = Ising(6,2,0.28)\n",
    "xx = ising.sample(1000, initial=xx)\n",
    "plt.figure()\n",
    "plt.subplot(131)\n",
    "_ = plt.hist2d(xx.reshape(-1,36)[:,0], xx.reshape(-1,36)[:,1], bins=100)\n",
    "plt.colorbar()\n",
    "plt.subplot(132)\n",
    "_ = plt.hist(xx.reshape(-1), bins=100)\n",
    "plt.subplot(133)\n",
    "_ = plt.hist(xx.reshape(-1,36).sum(-1), bins=100)"
   ]
  },
  {
   "cell_type": "code",
   "execution_count": null,
   "metadata": {},
   "outputs": [],
   "source": [
    "ising = Ising(6,2,0.3)\n",
    "xx = ising.sample(1000, initial=xx)\n",
    "plt.figure()\n",
    "plt.subplot(131)\n",
    "_ = plt.hist2d(xx.reshape(-1,36)[:,0], xx.reshape(-1,36)[:,1], bins=100)\n",
    "plt.colorbar()\n",
    "plt.subplot(132)\n",
    "_ = plt.hist(xx.reshape(-1), bins=100)\n",
    "plt.subplot(133)\n",
    "_ = plt.hist(xx.reshape(-1,36).sum(-1), bins=100)"
   ]
  },
  {
   "cell_type": "code",
   "execution_count": null,
   "metadata": {},
   "outputs": [],
   "source": [
    "ising = Ising(6,2,0.4)\n",
    "xx = ising.sample(1000, initial=xx)\n",
    "plt.figure()\n",
    "plt.subplot(131)\n",
    "_ = plt.hist2d(xx.reshape(-1,36)[:,0], xx.reshape(-1,36)[:,1], bins=100)\n",
    "plt.colorbar()\n",
    "plt.subplot(132)\n",
    "_ = plt.hist(xx.reshape(-1), bins=100)\n",
    "plt.subplot(133)\n",
    "_ = plt.hist(xx.reshape(-1,36).sum(-1), bins=100)"
   ]
  }
 ],
 "metadata": {
  "kernelspec": {
   "display_name": "Python 3",
   "language": "python",
   "name": "python3"
  },
  "language_info": {
   "codemirror_mode": {
    "name": "ipython",
    "version": 3
   },
   "file_extension": ".py",
   "mimetype": "text/x-python",
   "name": "python",
   "nbconvert_exporter": "python",
   "pygments_lexer": "ipython3",
   "version": "3.9.19"
  }
 },
 "nbformat": 4,
 "nbformat_minor": 2
}
